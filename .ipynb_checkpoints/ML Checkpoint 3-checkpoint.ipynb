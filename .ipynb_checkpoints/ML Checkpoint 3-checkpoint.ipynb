{
 "cells": [
  {
   "cell_type": "code",
   "execution_count": 1,
   "id": "israeli-static",
   "metadata": {},
   "outputs": [],
   "source": [
    "import numpy as np\n",
    "import matplotlib.pyplot as plt\n",
    "\n",
    "from sklearn import svm"
   ]
  },
  {
   "cell_type": "markdown",
   "id": "viral-canadian",
   "metadata": {},
   "source": [
    "## Table for data entries and abbreviations\n",
    "\n",
    "#### Batting Data: G AB R H 2B 3B HR RBI BB IBB SO HBP SH SF XI ROE GDP SB CS AVG OBP SLG HAND\n",
    "\n",
    "0: G: Games, total game played <br/>\n",
    "1: AB: At bat, Total times at bat <br/>\n",
    "2: R: Runs, total runs scored <br/>\n",
    "3: H: Hits, total fair play hits <br/>\n",
    "4: 2B: Double, reaching 2nd base from batting <br/>\n",
    "5: 3B: Triple, reaching 3rd base from batting <br/>\n",
    "6: HR: Home run, scoring straight from batting (includes in field home runs) <br/>\n",
    "7: RBI: Runs batted in, total runs from this player's at bat <br/>\n",
    "8: BB: Walks, total times walked (includes intentional walks) <br/>\n",
    "9: IBB: Intentional Walk, intentionally walking batter to first base <br/>\n",
    "10: SO: Strike out, total times struck out at base <br/>\n",
    "11: HBP: Hit by pitch, total times <br/>\n",
    "12: SH: Sacrifice bunt, bunt resulting in the batter being out but advances another runner <br/>\n",
    "13: SF: Sacrifice fly, fly ball resulting in the batter being out but advances another runner <br/>\n",
    "14: XI: ?, (almost all players have 0 for this statistic) <br/>\n",
    "15: ROE: Reached on error, total times on base due to an error <br/>\n",
    "16: GDP: Grounded into double play <br/>\n",
    "17: SB: Stolen base, total bases stolen <br/>\n",
    "18: CS: Caught stealing, Total times getting out when stealing.<br/>\n",
    "19: AVG: Batting average, (total hits / total at bats) <br/>\n",
    "20: OBP: On base percentage, (total times on base / total at bats) <br/>\n",
    "21: SLG: Slugging percentage, bases per at bat ((1B + 2*2B + 3*3B + 4*HR) / AB) <br/>\n",
    "22: HAND: Handedness, batting hand (1 = right, -1 = left) <br/>\n",
    "\n",
    "\n",
    "\n",
    "#### Pitching Data: G GS CG SHO GF SV IP H BFP HR R ER BB IB SO SH SF WP HBP BK 2B 3B GDP ROE W L ERA RS PW HAND\n",
    "\n",
    "0: G: Games played, total games played <br/>\n",
    "1: GS: Games Started, threw the first pitch <br/>\n",
    "2: CG: Complete game, pitched for the entire game <br/>\n",
    "3: SHO: Shutout, pitches entire game without opposition scoring <br/>\n",
    "4: GF: Games Finished, threw the last pitch (not counted if there was only 1 pitcher for the game) <br/>\n",
    "5: SV: save, relief pitcher resulting in a win under certain conditions, https://www.mlb.com/glossary/standard-stats/save <br/>\n",
    "6: IP: Innings pitched, total innings pitched (can be partial) <br/>\n",
    "7: H: Hits, total hits allowed <br/>\n",
    "8: BFP: Total batters face, total batters at plate when pitching <br/>\n",
    "9: HR: Home runs allowed <br/>\n",
    "10: R: Runs allowed?, total runs allowed <br/>\n",
    "11: ER: Earned Run, total runs scored by the opposition due to the pitcher <br/>\n",
    "12: BB: Walk, total walks <br/>\n",
    "13: IB: Intentional walk? <br/>\n",
    "14: SO: Strikeout, total batters struck out <br/>\n",
    "15: SH: Sacrifice bunt, bunt resulting in the batter being out but advances another runner <br/>\n",
    "16: SF: Sacrifice fly, fly ball resulting in the batter being out but advances another runner <br/>\n",
    "17: WP: Wild pitches, pitch out of range for the catcher causing a runner to advance <br/>\n",
    "18: HBP: Hit by pitch?, times batter is hit by a pitch <br/>\n",
    "19: BK: Balk, number of illegal actions <br/>\n",
    "20: 2B: Doubles allowed <br/>\n",
    "21: 3B: Triples allowed <br/>\n",
    "22: GDP: Grounded double plays? <br/>\n",
    "23: ROE: Reached on error?, number of batters on base due to an error <br/>\n",
    "24: W: Win, pitched while their team took the team and won the game <br/>\n",
    "25: L: Loss, pitched while their team lost the lead and lost the game <br/>\n",
    "26: ERA: Earned run average, (allowed runs * 9 / innings pitched ) <br/>\n",
    "27: RS: Run support?, average opposition score (per game, not per inning) <br/>\n",
    "28: PW: Total player rating, linear weighting of multiple statistics, https://en.wikipedia.org/wiki/Total_player_rating <br/>\n",
    "29: HAND: Handedness, Pitching hand (1 = right, -1 = left) <br/>"
   ]
  },
  {
   "cell_type": "code",
   "execution_count": 2,
   "id": "activated-edgar",
   "metadata": {},
   "outputs": [],
   "source": [
    "def getDataFromFile(fileName, pitchingDataList, battingDataList):\n",
    "    fileData=np.loadtxt(fileName, delimiter=',') \n",
    "    [N,dim]=np.shape(fileData) #set up matrix from file\n",
    "    \n",
    "    fileX = np.zeros((N, dim))\n",
    "    dataY = np.zeros((N))\n",
    "    \n",
    "    fileX = fileData[:, 0:dim - 1] #remove output from the x array\n",
    "    dataY[:] = fileData[:, dim - 1]\n",
    "    \n",
    "    dataX = np.zeros((N, 2*len(pitchingDataList) + 18*len(battingDataList)))\n",
    "    dataXIndex = 0\n",
    "    for i in pitchingDataList: #add data for home pitcher\n",
    "        dataX[:,dataXIndex] = fileX[:,i]\n",
    "        dataXIndex = dataXIndex + 1\n",
    "    for i in range(9): #add data for home batters\n",
    "        for j in battingDataList:\n",
    "            dataX[:,dataXIndex] = fileX[:,(30 + 23*i + j)]\n",
    "            dataXIndex = dataXIndex + 1\n",
    "    for i in pitchingDataList: #add data for away pitcher\n",
    "        dataX[:,dataXIndex] = fileX[:,(30 + 23*9 + i)]\n",
    "        dataXIndex = dataXIndex + 1\n",
    "    for i in range(9): #add data for away batters\n",
    "        for j in battingDataList:\n",
    "            dataX[:,dataXIndex] = fileX[:,(2*30 + 23*(9+i) + j)]\n",
    "            dataXIndex = dataXIndex + 1\n",
    "    \n",
    "    return dataX, dataY"
   ]
  },
  {
   "cell_type": "code",
   "execution_count": 3,
   "id": "maritime-knock",
   "metadata": {},
   "outputs": [],
   "source": [
    "def getMeanAndStd(data): #get the mean and standard deviation of data columns\n",
    "    means = [] #mean for each column\n",
    "    stds = [] #standard deviation for each column\n",
    "    for i in range(np.shape(data)[1]):\n",
    "        mean = sum(data[:,i]) / len(data) \n",
    "        means.append(mean)\n",
    "        stds.append( np.sqrt( sum((mean - data[:,i])**2)/len(data)) )\n",
    "    return means, stds\n",
    "\n",
    "def applyMeanAndStd(data, means, stds):\n",
    "    newData = data\n",
    "    for i in range(np.shape(newData)[1]):\n",
    "        newData[:,i] = (data[:,i] - means[i])/stds[i] #normalize so that mean = 0, std = 1\n",
    "    return newData"
   ]
  },
  {
   "cell_type": "code",
   "execution_count": 4,
   "id": "single-packing",
   "metadata": {},
   "outputs": [],
   "source": [
    "def runModel(trainX, trainY, testX, testY, model, epochCount): #run and graph model results\n",
    "    model.fit(trainX, trainY)\n",
    "    #predY = model.predict(testX)\n",
    "    \n",
    "    print('Train error:', eIn[-1])\n",
    "    print('Test error: ', eOut[-1])\n",
    "    \n",
    "    #return error data to be plot later\n",
    "    return eIn, eOut"
   ]
  },
  {
   "cell_type": "code",
   "execution_count": 5,
   "id": "indie-roman",
   "metadata": {},
   "outputs": [],
   "source": [
    "trainFileName = \"F:\\\\Users\\\\Daniel\\\\Machine Learning Work\\\\Baseball work\\\\ML Data\\\\train.txt\"\n",
    "valFileName = \"F:\\\\Users\\\\Daniel\\\\Machine Learning Work\\\\Baseball work\\\\ML Data\\\\val.txt\"\n",
    "#testFileName = \"F:\\\\Users\\\\Daniel\\\\Machine Learning Work\\\\Baseball work\\\\ML Data\\\\test.txt\"\n",
    "\n",
    "batDataList = [19, 20, 21, 17, 22] #on base %, hit %, slug %, bases stolen, hand\n",
    "#batDataList = [0,1,2,3,4,5,6,7,8,9,10,11,12,13,14,15,16,17,18,19,20,21,22] #all parameters\n",
    "pitDataList = [26, 29] #ERA, hand\n",
    "#pitDataList = [0,1,2,3,4,5,6,7,8,9,10,11,12,13,14,15,16,17,18,19,20,21,22,23,24,25,26,27,28,29] #all parameters\n",
    "\n",
    "trainX, trainY = getDataFromFile(trainFileName, pitDataList, batDataList) # ~ 32000 examples\n",
    "valX, valY = getDataFromFile(valFileName, pitDataList, batDataList) #8000 examples\n",
    "#testX, testY = getDataFromFile(testFileName)#"
   ]
  },
  {
   "cell_type": "code",
   "execution_count": 6,
   "id": "danish-subscriber",
   "metadata": {},
   "outputs": [],
   "source": [
    "dataMeans, dataStds = getMeanAndStd(trainX)\n",
    "trainX = applyMeanAndStd(trainX, dataMeans, dataStds)\n",
    "valX = applyMeanAndStd(valX, dataMeans, dataStds)"
   ]
  },
  {
   "cell_type": "code",
   "execution_count": null,
   "id": "commercial-disco",
   "metadata": {},
   "outputs": [],
   "source": []
  },
  {
   "cell_type": "code",
   "execution_count": 13,
   "id": "certified-pharmacology",
   "metadata": {},
   "outputs": [
    {
     "data": {
      "text/plain": [
       "SVC(C=1)"
      ]
     },
     "execution_count": 13,
     "metadata": {},
     "output_type": "execute_result"
    }
   ],
   "source": []
  },
  {
   "cell_type": "code",
   "execution_count": 7,
   "id": "welcome-technology",
   "metadata": {},
   "outputs": [
    {
     "name": "stdout",
     "output_type": "stream",
     "text": [
      "C = 0.001\n",
      "eOut: 0.4606972815235755\n",
      "eVal: 0.460375\n",
      "\n",
      "C = 0.01\n",
      "eOut: 0.4606972815235755\n",
      "eVal: 0.460375\n",
      "\n",
      "C = 0.05\n",
      "eOut: 0.45992935033021043\n",
      "eVal: 0.46062499999999995\n",
      "\n",
      "C = 0.1\n",
      "eOut: 0.4340039932422055\n",
      "eVal: 0.44875\n",
      "\n",
      "C = 0.5\n",
      "eOut: 0.32415911534326525\n",
      "eVal: 0.44262500000000005\n",
      "\n",
      "C = 1\n",
      "eOut: 0.24137613269851022\n",
      "eVal: 0.45175\n",
      "\n",
      "C = 5\n",
      "eOut: 0.03888803563200738\n",
      "eVal: 0.47250000000000003\n",
      "\n"
     ]
    },
    {
     "data": {
      "text/plain": [
       "[]"
      ]
     },
     "execution_count": 7,
     "metadata": {},
     "output_type": "execute_result"
    },
    {
     "data": {
      "image/png": "[encoded data removed]",
      "text/plain": [
       "<Figure size 432x288 with 1 Axes>"
      ]
     },
     "metadata": {
      "needs_background": "light"
     },
     "output_type": "display_data"
    }
   ],
   "source": [
    "cList = [.001, .01, .05, .1, .5, 1, 5]\n",
    "eInList = []\n",
    "eValList = []\n",
    "svNumList = [] #number of support vectors\n",
    "for cVal in cList:\n",
    "    svmModel = svm.SVC(kernel=\"rbf\", C = cVal)\n",
    "    svmModel.fit(trainX, trainY)\n",
    "    eInList.append(1 - svmModel.score(trainX, trainY))\n",
    "    eValList.append(1 - svmModel.score(valX, valY)) \n",
    "    \n",
    "    svNumList.append( len(svmModel.support_vectors_))\n",
    "    \n",
    "    print(\"C =\", cVal)\n",
    "    print(\"eOut:\", eInList[-1])\n",
    "    print(\"eVal:\", eValList[-1])\n",
    "    print() #spacing\n",
    "    \n",
    "fig, ax=plt.subplots()\n",
    "ax.plot(cList, eInList,'-b')\n",
    "ax.plot(cList, eValList,'-r')\n",
    "ax.set_xlabel(\"C value\")\n",
    "ax.set_ylabel('Error')\n",
    "ax.grid()\n",
    "ax.legend(['eIn', 'eVal'])\n",
    "ax.set_xscale(\"log\")\n",
    "#ax.axes.set_ylim(bottom = .4, top = .5) #all errors should be within this range\n",
    "ax.plot()"
   ]
  },
  {
   "cell_type": "code",
   "execution_count": 9,
   "id": "spectacular-festival",
   "metadata": {},
   "outputs": [
    {
     "name": "stdout",
     "output_type": "stream",
     "text": [
      "[30159, 30395, 30423, 30421, 30309, 30337, 30505]\n",
      "32555\n"
     ]
    }
   ],
   "source": [
    "print(svNumList)\n",
    "print(len(trainY))\n",
    "#shows that there is a huge number of support vectors"
   ]
  },
  {
   "cell_type": "code",
   "execution_count": 17,
   "id": "solar-popularity",
   "metadata": {},
   "outputs": [
    {
     "name": "stdout",
     "output_type": "stream",
     "text": [
      "Ein:  0.4340039932422055\n",
      "EVal:  0.44875\n"
     ]
    }
   ],
   "source": [
    "#train model based on best gamma, error can be seen from above\n",
    "svmModel = svm.SVC(kernel=\"rbf\", C = .1) #gamma = .1\n",
    "svmModel.fit(trainX, trainY) #train model\n",
    "\n",
    "print(\"Ein: \", (1 - svmModel.score(trainX, trainY)))\n",
    "print(\"EVal: \", (1 - svmModel.score(valX, valY)))"
   ]
  },
  {
   "cell_type": "code",
   "execution_count": null,
   "id": "blind-shield",
   "metadata": {},
   "outputs": [],
   "source": []
  },
  {
   "cell_type": "code",
   "execution_count": 19,
   "id": "graphic-permit",
   "metadata": {},
   "outputs": [
    {
     "data": {
      "text/plain": [
       "['BaseballSVMModel.joblib']"
      ]
     },
     "execution_count": 19,
     "metadata": {},
     "output_type": "execute_result"
    }
   ],
   "source": [
    "#save the model using joblib\n",
    "import joblib\n",
    "\n",
    "fileName = \"BaseballSVMModel.joblib\"\n",
    "joblib.dump(svmModel, fileName)"
   ]
  },
  {
   "cell_type": "code",
   "execution_count": 21,
   "id": "hazardous-musical",
   "metadata": {},
   "outputs": [],
   "source": [
    "#load the model\n",
    "svmModel = joblib.load(fileName)"
   ]
  },
  {
   "cell_type": "code",
   "execution_count": null,
   "id": "contrary-atlantic",
   "metadata": {},
   "outputs": [],
   "source": []
  }
 ],
 "metadata": {
  "kernelspec": {
   "display_name": "Python 3",
   "language": "python",
   "name": "python3"
  },
  "language_info": {
   "codemirror_mode": {
    "name": "ipython",
    "version": 3
   },
   "file_extension": ".py",
   "mimetype": "text/x-python",
   "name": "python",
   "nbconvert_exporter": "python",
   "pygments_lexer": "ipython3",
   "version": "3.8.8"
  }
 },
 "nbformat": 4,
 "nbformat_minor": 5
}
