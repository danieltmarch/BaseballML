{
 "cells": [
  {
   "cell_type": "code",
   "execution_count": 1,
   "metadata": {},
   "outputs": [],
   "source": [
    "import numpy as np\n",
    "import matplotlib.pyplot as plt"
   ]
  },
  {
   "cell_type": "markdown",
   "metadata": {},
   "source": [
    "### Represent state as both a number and state data\n",
    "Transformation matrix requires that state has to be turned into a number, for readability the class allows both.\n",
    "How to map game state (inning, half, outs, bases, home score, away score) is somewhat arbitrary, and choices are mostly done for simplicity's sake.\n",
    "\n",
    "A state is represented as an inning (which includes the half), the bases (represented by one number from converting the 3 digit binary base states), outs, and the score (home team - away team).\n",
    "\n",
    "    inning = [0,17]\n",
    "    outs = [0,2]\n",
    "    bases = [0,8]\n",
    "    score = [-15,15]\n",
    "\n",
    "Matrix is finite, so data that has extra innings or a score difference greater than 15 (negative or positive) are thrown out.\n",
    "\n",
    "Converting from state to number:\n",
    "\n",
    "    Every unique state maps to a unique number: [0, # of possible states - 1]\n",
    "    Simple conversion: (score + 15)*18*8*3 + (inning)*8*3 + (bases)*3 + (outs)\n",
    "    Adding 15 to score is to change the range of score from [-15, 15] to [0, 30]\n",
    "\n",
    "Lastly to determine when a game has ended a couple flags are used by reserving 3 states (home win, home loss, draw) which normally could never occur:\n",
    "    \n",
    "    (Since the away team bats first, score can't be positive in the first inning)\n",
    "    Home win flag: inning = 0, outs = 0, bases = 0, score = 1\n",
    "    Away win flag: inning = 0, outs = 0, bases = 0, score = 2\n",
    "    Draw flag:     inning = 0, outs = 0, bases = 0, score = 3\n",
    "    \n",
    "    Note that while the draw flag is still available to use, it shouldn't ever be utilized."
   ]
  },
  {
   "cell_type": "code",
   "execution_count": 2,
   "metadata": {},
   "outputs": [],
   "source": [
    "#gameState represents any state in a baseball game, each state can be represented by either members or as one number\n",
    "#note: end flags, they are inning = 0, outs = 0, bases = 0, score = 1,2,3 (since these states are impossible in normal play)\n",
    "#if flag score is 1 (home win), 2 (away win), 3 (draw state at end of 17th (9th) inning)\n",
    "class gameState:\n",
    "    inning = 0 #[0,17] since each of the 9 innings are either in the top or the bottom\n",
    "    outs = 0 #[0, 2] number of outs\n",
    "    bases = 0 #[0,7] binary representation, i.e. 6 (110) has runners on 2nd and 3rd\n",
    "    score = 0 #score = homeTeamScore - awayTeamScore, for simplicity score = [-15, 15]\n",
    "\n",
    "    def setFromInfo(self, inn, out, bas, scor): #construct from data, note: base should be a 3 element list like [0,1,1]\n",
    "        if(inn > 17):\n",
    "            inn = 16 + int(inn % 2 == 0)\n",
    "        self.inning = inn\n",
    "        self.outs = out\n",
    "        self.bases = 4*bas[2] + 2*bas[1] + bas[0] #conversion from list format to single number\n",
    "        \n",
    "        self.score = max(-15, min(15, scor)) #score between -15 and 15\n",
    "        \n",
    "    def setFromData(self, inn, out, bas, scor): #construct from data, note: base should be [0,7]\n",
    "        if(inn > 17):\n",
    "            inn = 16 + int(inn % 2 == 0)\n",
    "        self.inning = inn\n",
    "        self.outs = out\n",
    "        self.bases = bas\n",
    "        \n",
    "        self.score = max(-15, min(15, scor)) #score between -15 and 15\n",
    "\n",
    "    def setFromNum(self, numEquiv): #construct from number, map number to gameState\n",
    "        self.outs = numEquiv % 3\n",
    "        numEquiv = numEquiv // 3\n",
    "        \n",
    "        self.bases = numEquiv % 8\n",
    "        numEquiv = numEquiv // 8\n",
    "        \n",
    "        self.inning = (numEquiv % 18)\n",
    "        numEquiv = numEquiv // 18\n",
    "        \n",
    "        self.score = (numEquiv % 31) - 15\n",
    "        \n",
    "    def __str__(self): #for convient printing, note bases are printed as 1,2,3 not 3,2,1\n",
    "        return (\"{'Inning': \" + str(self.inning) + \", \" \n",
    "            + \"'Outs': \" + str(self.outs) + \", \"\n",
    "            + \"'Bases': \" + str(self.bases % 2) + str((self.bases >> 1) % 2) + str(self.bases >> 2) + \", \"\n",
    "            + \"'Score': \" + str(self.score) + \"}\")\n",
    "    \n",
    "    def toNum(self): #map gameState to number\n",
    "            return (self.score + 15)*18*8*3 + (self.inning)*8*3 + (self.bases)*3 + (self.outs)\n",
    "    \n",
    "    def setEndFlagState(self, lastState): #set the end flag state from the last state of the game, asssume lastState is an end\n",
    "        self.inning = 0\n",
    "        self.outs = 0\n",
    "        self.bases = 0\n",
    "        self.score = 3 #draw\n",
    "        if(lastState.score < 0): #away win\n",
    "            self.score = 2\n",
    "        elif(lastState.score > 0): #home win\n",
    "            self.score = 1\n",
    "        else: #game ended in overtime or last inning\n",
    "            if(lastState.inning % 2 == 0): #away team batted last\n",
    "                self.score = 2 #away team won\n",
    "            else: #home team batted last\n",
    "                self.score = 1 #home team won\n",
    "                     \n",
    "    def isEndState(self): #check if the state is an end state\n",
    "        if(self.inning != 0 or self.outs != 0 or self.bases != 0): #not an end state if any of these aren't true\n",
    "            return False\n",
    "        return (self.score >= 1 and self.score <= 3) #is an end flag if score is between [1, 3]\n",
    "    def getEndResult(self): #return the value of an end state 1 = home win, -1 away win, 0 draw (assumes the state is an end state)        \n",
    "        if(self.score == 1):\n",
    "            return 1 #home win\n",
    "        elif(self.score == 2):\n",
    "            return -1 #away win\n",
    "        else:\n",
    "            return 0 #draw\n",
    "#gameStates options: 18*3*8*31 = 13392\n",
    "        "
   ]
  },
  {
   "cell_type": "markdown",
   "metadata": {},
   "source": [
    "### Get Data from file\n",
    "\n",
    "The file used is gotten from 2010-2019 play-by-play data from retrosheet.org and using \"bevent -f 2,4,8-9,26-28,78 -y 2010 20?????.EVA > FormattedData\\2010-2019StateData.txt\" with the bevent software provided. Effectively this takes the data and extracts the relevant fields.\n",
    "\n",
    "Then read each line, turn it into a state, and remember the previous state. Then for every state and previous state 1 is added to the corresponding matrix cell (i.e. matrix[ prev.Num ][ curr.Num ]). Also new game states and data that goes out of range (i.e. score > 15) have to be caught and thrown out.\n",
    "\n",
    "Lastly turn the matrix into a probability matrix. Since matrix[y][x] yields the number of times state y goes to state x, if you get the sum of matrix[y] and divide every entry in matrix[y] by the sum, then matrix[y][x] is the probability state y will go to state x."
   ]
  },
  {
   "cell_type": "code",
   "execution_count": 3,
   "metadata": {},
   "outputs": [],
   "source": [
    "def getStateFromLine(line): #line in format of: inning, top/bottom, out, vis. score, home score, 1st,2nd,3rd, newGameFlag\n",
    "    lineData = line.split(',')\n",
    "    \n",
    "    #convert from the line to the state\n",
    "    inning = (int(lineData[0])-1)*2 + int(lineData[1]) #map inning and bottom/top for state\n",
    "    outs = int(lineData[2])\n",
    "    bases = [int(lineData[5] != '\"\"'), int(lineData[6] != '\"\"'), int(lineData[7] != '\"\"')] #convert to bases\n",
    "    score = int(lineData[4]) - int(lineData[3]) #home - vis score\n",
    "    \n",
    "    newGameStart = lineData[8][1] == 'T' #weird way of checking string, but it works\n",
    "    \n",
    "    state = gameState()\n",
    "    state.setFromInfo(inning,outs,bases,score)\n",
    "    return state, newGameStart\n",
    "\n",
    "#NOTE THE isValidTrans method is no longer being used\n",
    "#catch \"bad data\", basically catches to high scoring games\n",
    "def isValidTrans(stateCurr, stateNext): #verify that the state transition isn't an error\n",
    "    if(stateCurr.inning > stateNext.inning): #innings only move forward\n",
    "        #print(stateCurr, stateNext)\n",
    "        return False;\n",
    "        \n",
    "    elif(stateCurr.inning < stateNext.inning):\n",
    "        if(stateNext.bases != 0 or stateNext.outs != 0):\n",
    "           # print(stateCurr, stateNext)\n",
    "            return False #new inning bases/outs should reset\n",
    "        else:\n",
    "            return True #inning is properly reset\n",
    "    #else stateCurr and stateNext are in the same inning\n",
    "    \n",
    "    #if next state has \"worse\" bases implies a change in score or outs\n",
    "    if(stateCurr.bases >= stateNext.bases and stateCurr.outs == stateNext.outs and stateCurr.score == stateNext.score ):\n",
    "        #print(stateCurr, stateNext)\n",
    "        return False\n",
    "\n",
    "    return True"
   ]
  },
  {
   "cell_type": "code",
   "execution_count": 4,
   "metadata": {},
   "outputs": [
    {
     "name": "stdout",
     "output_type": "stream",
     "text": [
      "Total games:  24296\n"
     ]
    }
   ],
   "source": [
    "fileName=\"test software\\\\FormattedData\\\\2010-2019StateData.txt\"\n",
    "dataFile = open(fileName, \"r\")\n",
    "\n",
    "matrixDim = (13392,13392) #since 31*18*8*3\n",
    "stateTran = np.zeros(matrixDim) #set the size of the large state transition matrix\n",
    "\n",
    "line = dataFile.readline()\n",
    "\n",
    "stateCurr = gameState()\n",
    "statePrev = gameState()\n",
    "stateEnd = gameState()\n",
    "\n",
    "totalGames = 0\n",
    "homeWinGames = 0\n",
    "\n",
    "statePrev, newGame = getStateFromLine(line) #avoid running into an error of writing the last game end\n",
    "line = dataFile.readline() #read second line, not a newGame\n",
    "while(line):\n",
    "    stateCurr, newGame = getStateFromLine(line)\n",
    "    if(not newGame):\n",
    "        stateTran[statePrev.toNum()][stateCurr.toNum()] += 1 #add one to the entry\n",
    "    else: #new game, put result of previous game\n",
    "        stateEnd.setEndFlagState(statePrev) #get the flag from the end state\n",
    "        #print(stateEnd, statePrev)\n",
    "        stateTran[statePrev.toNum()][stateEnd.toNum()] += 1 #add one to the end state entry\n",
    "        totalGames = totalGames + 1\n",
    "\n",
    "    statePrev = stateCurr\n",
    "    line = dataFile.readline() \n",
    "    \n",
    "dataFile.close()\n",
    "\n",
    "print(\"Total games: \", totalGames)\n",
    "\n",
    "\n",
    "#change the matrix to a probability matrix, i.e. matrix[y][x] is probability from going to x, given that you are at y\n",
    "for row in range(matrixDim[0]):\n",
    "    rowSum = sum(stateTran[row])\n",
    "    if(rowSum != 0):\n",
    "        stateTran[row] = stateTran[row] / rowSum\n",
    "        \n",
    "#win coordinates should have only 1 entry in their row, gaurenteed chance to return to iteself\n",
    "stateEnd.setFromData(0,0,0,1) #home win\n",
    "stateTran[stateEnd.toNum()][stateEnd.toNum()] = 1\n",
    "stateEnd.setFromData(0,0,0,2) #home loss\n",
    "stateTran[stateEnd.toNum()][stateEnd.toNum()] = 1\n",
    "stateEnd.setFromData(0,0,0,3) #draw\n",
    "stateTran[stateEnd.toNum()][stateEnd.toNum()] = 1\n",
    "\n",
    "#print any bad data\n",
    "for row in range(matrixDim[0]):\n",
    "    rowSum = sum(stateTran[row])\n",
    "    if(rowSum < 1 - .001 or rowSum > 1 + .001): #row doesn't sum to 1, allow permitted if no entry leads to this row\n",
    "        if(sum(stateTran[:,row]) != 0): #if no row leads to the empty row\n",
    "            print(row, ' ' , rowSum)"
   ]
  },
  {
   "cell_type": "code",
   "execution_count": 7,
   "metadata": {},
   "outputs": [],
   "source": [
    "#save the file, numbers to 4 digits of precision\n",
    "#outputFile = \"C:\\\\Users\\\\Lemon\\\\Machine Learning Work\\\\Baseball work\\\\test software\\\\FormattedData\\\\2010-2019StateMatrix.txt\"\n",
    "np.savetxt(outputFile, stateTran, fmt=\"%.4f\", delimiter=',')"
   ]
  },
  {
   "cell_type": "markdown",
   "metadata": {},
   "source": [
    "### Trying to get some visual results\n",
    "\n",
    "Here are couple attempts in trying to get a visual result.\n",
    "Viewing the matrix itself would be meaningless since states aren't mapped very intuitevly, and states themselves are 4d.\n",
    "\n",
    "To view a transformation matrix (which is understandable) the matrix needs to be small, so each attempt will have to map the large transformation matrix to a smaller transformation matrix.\n",
    "\n",
    "Attempt 1: Bases only transformation, 8x8 matrix in which the y axis is the bases and x axis is also the bases. Each cell goes from black to white (0 to 1 chance).\n",
    "\n",
    "Attempt 2: Bases-outs-score transformation matrix. 24x120 matrix in which y axis is the bases and outs (8\\*3) and the x axis is the bases, outs, and score change (8\\*3\\*5).\n",
    "\n",
    "Both attempts take around 10min to compute."
   ]
  },
  {
   "cell_type": "code",
   "execution_count": 6,
   "metadata": {},
   "outputs": [],
   "source": [
    "from PIL import Image"
   ]
  },
  {
   "cell_type": "code",
   "execution_count": 10,
   "metadata": {},
   "outputs": [],
   "source": [
    "#stateX = gameState()\n",
    "#stateY = gameState()\n",
    "\n",
    "matrixImage = Image.new( 'RGB', matrixDim, \"black\") # Create a new black image, quite large\n",
    "matrixPixels = matrixImage.load()   \n",
    "\n",
    "for y in range(matrixDim[0]):\n",
    "        for x in range(matrixDim[1]):\n",
    "            if(stateTran[y][x] != 0):\n",
    "                val = 100 + int(stateTran[y][x]*155)\n",
    "                matrixPixels[x,y] = (val,val,val)\n",
    "matrixImage.show()"
   ]
  },
  {
   "cell_type": "code",
   "execution_count": null,
   "metadata": {},
   "outputs": [],
   "source": []
  },
  {
   "cell_type": "code",
   "execution_count": 33,
   "metadata": {},
   "outputs": [
    {
     "data": {
      "text/plain": [
       "<matplotlib.image.AxesImage at 0x19fc5e9f040>"
      ]
     },
     "execution_count": 33,
     "metadata": {},
     "output_type": "execute_result"
    },
    {
     "data": {
      "image/png": "[encoded data removed]",
      "text/plain": [
       "<Figure size 518.4x892.8 with 1 Axes>"
      ]
     },
     "metadata": {
      "needs_background": "light"
     },
     "output_type": "display_data"
    }
   ],
   "source": [
    "outsS = 0 #0-2 inclusive\n",
    "basesS = 0 #0-7 inclusive\n",
    "\n",
    "outsE = 0\n",
    "basesE = 1\n",
    "scoreMod = 0\n",
    "\n",
    "matrixPixels = np.zeros((31,18,3), dtype=np.uint8)\n",
    "\n",
    "start = gameState()\n",
    "end = gameState()\n",
    "\n",
    "for score in range(0,31):\n",
    "    for inning in range(0,18):\n",
    "        start.setFromData(inning, outsS, basesS, score - 15)\n",
    "        end.setFromData(inning, outsE, basesE, score - 15 + scoreMod)\n",
    "        \n",
    "        val = stateTran[start.toNum()][end.toNum()]*255\n",
    "        if(val == 0):\n",
    "            matrixPixels[score, inning] = [128,0,0]\n",
    "        else:\n",
    "            matrixPixels[score, inning] = [val,val,val]\n",
    "\n",
    "size = .4\n",
    "fig, ax = plt.subplots(figsize=(18*size,31*size))\n",
    "ax.imshow(matrixPixels)"
   ]
  },
  {
   "cell_type": "code",
   "execution_count": null,
   "metadata": {},
   "outputs": [],
   "source": []
  },
  {
   "cell_type": "code",
   "execution_count": 109,
   "metadata": {},
   "outputs": [
    {
     "name": "stdout",
     "output_type": "stream",
     "text": [
      "0.0 %\n",
      "7.467144563918757 %\n",
      "14.934289127837514 %\n",
      "22.40143369175627 %\n",
      "29.86857825567503 %\n",
      "37.33572281959379 %\n",
      "44.80286738351254 %\n",
      "52.2700119474313 %\n",
      "59.73715651135006 %\n",
      "67.20430107526882 %\n",
      "74.67144563918758 %\n",
      "82.13859020310633 %\n",
      "89.60573476702508 %\n",
      "97.07287933094385 %\n"
     ]
    }
   ],
   "source": [
    "def matrixMap1(y,x): #map the index to only the bases, all other info is irrelevent\n",
    "    state = gameState()\n",
    "    state.setFromNum(x)\n",
    "    xNew = state.bases\n",
    "    \n",
    "    state.setFromNum(y)\n",
    "    yNew = state.bases\n",
    "    return xNew,yNew\n",
    "\n",
    "\n",
    "baseDim = (8,8)\n",
    "baseImage = Image.new('RGB', baseDim, \"black\")\n",
    "basePixels = baseImage.load()\n",
    "\n",
    "baseMatrix = np.zeros(baseDim)\n",
    "\n",
    "stateConv = gameState() #used for the mapping\n",
    "#map the large matrix to the base matrix\n",
    "for y1 in range(matrixDim[0]):\n",
    "    for x1 in range(matrixDim[1]):\n",
    "        y2,x2 = matrixMap1(y1,x1)\n",
    "        baseMatrix[y2][x2] += stateTran[y1][x1] #add the data to the proper spot in the new matrix\n",
    "    if(y1 % 1000 == 0):\n",
    "        print(100 * y1 / matrixDim[0], '%')\n",
    "        \n",
    "        \n",
    "#change the matrix to a probability matrix, i.e. matrix[y][x] is probability from going to x, given that you are at\n",
    "for row in range(baseDim[0]):\n",
    "    rowSum = sum(baseMatrix[row])\n",
    "    if(rowSum != 0):\n",
    "        baseMatrix[row] = baseMatrix[row] / rowSum\n",
    "        \n",
    "for y in range(baseDim[0]): #fill image pixels\n",
    "    for x in range(baseDim[1]):\n",
    "        val = int(baseMatrix[y][x]*255)\n",
    "        basePixels[x,y] = (val,val,val)\n",
    "baseImage.show()"
   ]
  },
  {
   "cell_type": "code",
   "execution_count": 66,
   "metadata": {},
   "outputs": [],
   "source": [
    "baseImage.show()\n",
    "baseImage.save(\"base.png\")"
   ]
  },
  {
   "cell_type": "code",
   "execution_count": 69,
   "metadata": {},
   "outputs": [
    {
     "name": "stdout",
     "output_type": "stream",
     "text": [
      "[[0.69  0.252 0.052 0.    0.007 0.    0.    0.   ]\n",
      " [0.327 0.293 0.112 0.192 0.008 0.035 0.033 0.   ]\n",
      " [0.244 0.071 0.331 0.113 0.166 0.072 0.002 0.   ]\n",
      " [0.289 0.006 0.023 0.282 0.043 0.102 0.104 0.151]\n",
      " [0.429 0.172 0.051 0.    0.23  0.118 0.    0.   ]\n",
      " [0.298 0.107 0.062 0.14  0.014 0.198 0.1   0.081]\n",
      " [0.248 0.065 0.119 0.008 0.112 0.08  0.225 0.142]\n",
      " [0.299 0.002 0.018 0.1   0.026 0.091 0.095 0.368]]\n"
     ]
    }
   ],
   "source": [
    "np.set_printoptions(precision=3)\n",
    "np.set_printoptions(suppress=True)\n",
    "print(baseMatrix)"
   ]
  },
  {
   "cell_type": "code",
   "execution_count": 130,
   "metadata": {},
   "outputs": [
    {
     "name": "stdout",
     "output_type": "stream",
     "text": [
      "0.0 %\n",
      "7.467144563918757 %\n",
      "14.934289127837514 %\n",
      "22.40143369175627 %\n",
      "29.86857825567503 %\n",
      "37.33572281959379 %\n",
      "44.80286738351254 %\n",
      "52.2700119474313 %\n",
      "59.73715651135006 %\n",
      "67.20430107526882 %\n",
      "74.67144563918758 %\n",
      "82.13859020310633 %\n",
      "89.60573476702508 %\n",
      "97.07287933094385 %\n"
     ]
    }
   ],
   "source": [
    "def matrixMap2(y,x): #mapping from matrix to inning position and score changes\n",
    "    statePrev = gameState()\n",
    "    stateNext = gameState()\n",
    "    statePrev.setFromNum(y)\n",
    "    stateNext.setFromNum(x)\n",
    "   \n",
    "    yNew = statePrev.outs*8 + statePrev.bases\n",
    "    xNew = min(4,abs(stateNext.score - statePrev.score))*3*8 + stateNext.outs*8 + stateNext.bases #diff in score, bases, outs\n",
    "    return yNew, xNew\n",
    "\n",
    "\n",
    "baseDim = (8*3,8*3*5) #y axis is bases and outs, x is the next state which is next bases, outs, and change in score\n",
    "baseImage = Image.new('RGB', (baseDim[1],baseDim[0]), \"black\")\n",
    "basePixels = baseImage.load()\n",
    "\n",
    "baseMatrix = np.zeros(baseDim)\n",
    "\n",
    "stateConv = gameState() #used for the mapping\n",
    "#map the large matrix to the base matrix\n",
    "for y1 in range(matrixDim[0]):\n",
    "    for x1 in range(matrixDim[1]):\n",
    "        y2,x2 = matrixMap2(y1,x1)\n",
    "        baseMatrix[y2][x2] += stateTran[y1][x1] #add the data to the proper spot in the new matrix\n",
    "    if(y1 % 1000 == 0):\n",
    "        print(100 * y1 / matrixDim[0], '%')\n",
    "#change the matrix to a probability matrix, i.e. matrix[y][x] is probability from going to x, given that you are at\n",
    "for row in range(baseDim[0]):\n",
    "    rowSum = sum(baseMatrix[row])\n",
    "    if(rowSum != 0):\n",
    "        baseMatrix[row] = baseMatrix[row] / rowSum\n",
    "        \n",
    "for y in range(baseDim[0]):\n",
    "    for x in range(baseDim[1]):\n",
    "        val = int(baseMatrix[y][x]*255)\n",
    "        basePixels[x,y] = (val,val,val)\n",
    "baseImage.save(\"inningImage.png\")"
   ]
  },
  {
   "cell_type": "markdown",
   "metadata": {},
   "source": [
    "### Simulating the most likely game of baseball (with 2010-2019 data)\n",
    "\n",
    "Simple task, just go from the starting state, and go to the next most probable state.\n",
    "\n",
    "The results are unsurprising, except for the last inning.\n",
    "Note: I have to verify that the 17th inning data is correct, and the last state is the draw flag."
   ]
  },
  {
   "cell_type": "code",
   "execution_count": 14,
   "metadata": {
    "scrolled": false
   },
   "outputs": [
    {
     "name": "stdout",
     "output_type": "stream",
     "text": [
      "{'Inning': 0, 'Outs': 0, 'Bases': 000, 'Score': 0}\n",
      "{'Inning': 0, 'Outs': 1, 'Bases': 000, 'Score': 0}\n",
      "{'Inning': 0, 'Outs': 2, 'Bases': 000, 'Score': 0}\n",
      "{'Inning': 1, 'Outs': 0, 'Bases': 000, 'Score': 0}\n",
      "{'Inning': 1, 'Outs': 1, 'Bases': 000, 'Score': 0}\n",
      "{'Inning': 1, 'Outs': 2, 'Bases': 000, 'Score': 0}\n",
      "{'Inning': 2, 'Outs': 0, 'Bases': 000, 'Score': 0}\n",
      "{'Inning': 2, 'Outs': 1, 'Bases': 000, 'Score': 0}\n",
      "{'Inning': 2, 'Outs': 2, 'Bases': 000, 'Score': 0}\n",
      "{'Inning': 3, 'Outs': 0, 'Bases': 000, 'Score': 0}\n",
      "{'Inning': 3, 'Outs': 1, 'Bases': 000, 'Score': 0}\n",
      "{'Inning': 3, 'Outs': 2, 'Bases': 000, 'Score': 0}\n",
      "{'Inning': 4, 'Outs': 0, 'Bases': 000, 'Score': 0}\n",
      "{'Inning': 4, 'Outs': 1, 'Bases': 000, 'Score': 0}\n",
      "{'Inning': 4, 'Outs': 2, 'Bases': 000, 'Score': 0}\n",
      "{'Inning': 5, 'Outs': 0, 'Bases': 000, 'Score': 0}\n",
      "{'Inning': 5, 'Outs': 1, 'Bases': 000, 'Score': 0}\n",
      "{'Inning': 5, 'Outs': 2, 'Bases': 000, 'Score': 0}\n",
      "{'Inning': 6, 'Outs': 0, 'Bases': 000, 'Score': 0}\n",
      "{'Inning': 6, 'Outs': 1, 'Bases': 000, 'Score': 0}\n",
      "{'Inning': 6, 'Outs': 2, 'Bases': 000, 'Score': 0}\n",
      "{'Inning': 7, 'Outs': 0, 'Bases': 000, 'Score': 0}\n",
      "{'Inning': 7, 'Outs': 1, 'Bases': 000, 'Score': 0}\n",
      "{'Inning': 7, 'Outs': 2, 'Bases': 000, 'Score': 0}\n",
      "{'Inning': 8, 'Outs': 0, 'Bases': 000, 'Score': 0}\n",
      "{'Inning': 8, 'Outs': 1, 'Bases': 000, 'Score': 0}\n",
      "{'Inning': 8, 'Outs': 2, 'Bases': 000, 'Score': 0}\n",
      "{'Inning': 9, 'Outs': 0, 'Bases': 000, 'Score': 0}\n",
      "{'Inning': 9, 'Outs': 1, 'Bases': 000, 'Score': 0}\n",
      "{'Inning': 9, 'Outs': 2, 'Bases': 000, 'Score': 0}\n",
      "{'Inning': 10, 'Outs': 0, 'Bases': 000, 'Score': 0}\n",
      "{'Inning': 10, 'Outs': 1, 'Bases': 000, 'Score': 0}\n",
      "{'Inning': 10, 'Outs': 2, 'Bases': 000, 'Score': 0}\n",
      "{'Inning': 11, 'Outs': 0, 'Bases': 000, 'Score': 0}\n",
      "{'Inning': 11, 'Outs': 1, 'Bases': 000, 'Score': 0}\n",
      "{'Inning': 11, 'Outs': 2, 'Bases': 000, 'Score': 0}\n",
      "{'Inning': 12, 'Outs': 0, 'Bases': 000, 'Score': 0}\n",
      "{'Inning': 12, 'Outs': 1, 'Bases': 000, 'Score': 0}\n",
      "{'Inning': 12, 'Outs': 2, 'Bases': 000, 'Score': 0}\n",
      "{'Inning': 13, 'Outs': 0, 'Bases': 000, 'Score': 0}\n",
      "{'Inning': 13, 'Outs': 1, 'Bases': 000, 'Score': 0}\n",
      "{'Inning': 13, 'Outs': 2, 'Bases': 000, 'Score': 0}\n",
      "{'Inning': 14, 'Outs': 0, 'Bases': 000, 'Score': 0}\n",
      "{'Inning': 14, 'Outs': 1, 'Bases': 000, 'Score': 0}\n",
      "{'Inning': 14, 'Outs': 2, 'Bases': 000, 'Score': 0}\n",
      "{'Inning': 15, 'Outs': 0, 'Bases': 000, 'Score': 0}\n",
      "{'Inning': 15, 'Outs': 1, 'Bases': 000, 'Score': 0}\n",
      "{'Inning': 15, 'Outs': 2, 'Bases': 000, 'Score': 0}\n",
      "{'Inning': 16, 'Outs': 0, 'Bases': 000, 'Score': 0}\n",
      "{'Inning': 16, 'Outs': 1, 'Bases': 000, 'Score': 0}\n",
      "{'Inning': 16, 'Outs': 2, 'Bases': 000, 'Score': 0}\n",
      "{'Inning': 17, 'Outs': 0, 'Bases': 000, 'Score': 0}\n",
      "{'Inning': 17, 'Outs': 1, 'Bases': 000, 'Score': 0}\n",
      "{'Inning': 17, 'Outs': 2, 'Bases': 000, 'Score': 0}\n",
      "{'Inning': 16, 'Outs': 0, 'Bases': 000, 'Score': 0}\n",
      "{'Inning': 16, 'Outs': 1, 'Bases': 000, 'Score': 0}\n",
      "{'Inning': 16, 'Outs': 2, 'Bases': 000, 'Score': 0}\n",
      "{'Inning': 17, 'Outs': 0, 'Bases': 000, 'Score': 0}\n",
      "{'Inning': 17, 'Outs': 1, 'Bases': 000, 'Score': 0}\n",
      "{'Inning': 17, 'Outs': 2, 'Bases': 000, 'Score': 0}\n",
      "{'Inning': 16, 'Outs': 0, 'Bases': 000, 'Score': 0}\n",
      "{'Inning': 16, 'Outs': 1, 'Bases': 000, 'Score': 0}\n",
      "{'Inning': 16, 'Outs': 2, 'Bases': 000, 'Score': 0}\n",
      "{'Inning': 17, 'Outs': 0, 'Bases': 000, 'Score': 0}\n",
      "{'Inning': 17, 'Outs': 1, 'Bases': 000, 'Score': 0}\n",
      "{'Inning': 17, 'Outs': 2, 'Bases': 000, 'Score': 0}\n",
      "{'Inning': 16, 'Outs': 0, 'Bases': 000, 'Score': 0}\n",
      "{'Inning': 16, 'Outs': 1, 'Bases': 000, 'Score': 0}\n",
      "{'Inning': 16, 'Outs': 2, 'Bases': 000, 'Score': 0}\n",
      "{'Inning': 17, 'Outs': 0, 'Bases': 000, 'Score': 0}\n",
      "8.432550159790968e-13 , 1 in 1185880879509.3945\n"
     ]
    }
   ],
   "source": [
    "#simulating the most average game\n",
    "stateCurr = gameState()\n",
    "statePrev = gameState()\n",
    "stateCurr.setFromData(0,0,0,0)\n",
    "\n",
    "totalChance = 1\n",
    "prob = 1\n",
    "iters = 0 #cut off after 50 states\n",
    "while(prob != 0 and iters < 70): #while the game is still on\n",
    "    totalChance = totalChance * prob\n",
    "    #find the most likely next state\n",
    "    nextStateNum = 0\n",
    "    prob = 0 #probability\n",
    "    for x in range(matrixDim[1]): \n",
    "        option = stateTran[stateCurr.toNum()][x]\n",
    "        if(option > prob):\n",
    "            prob = option #new probability\n",
    "            nextStateNum = x\n",
    "    statePrev.setFromNum(stateCurr.toNum())\n",
    "    stateCurr.setFromNum(nextStateNum)\n",
    "    iters = iters + 1\n",
    "    \n",
    "    print(statePrev)\n",
    "    \n",
    "print(totalChance, \", 1 in\", 1/totalChance)"
   ]
  },
  {
   "cell_type": "markdown",
   "metadata": {},
   "source": [
    "### Getting the win probability of the matrix\n",
    "\n",
    "Here is an attempt at getting the probability of the home team winning using a recursive method. The issue is the branching factor is so large that the function takes far too long to run."
   ]
  },
  {
   "cell_type": "code",
   "execution_count": 16,
   "metadata": {},
   "outputs": [
    {
     "name": "stdout",
     "output_type": "stream",
     "text": [
      "Time elapsed:  0.0\n"
     ]
    }
   ],
   "source": [
    "import time\n",
    "#this method is far too slow\n",
    "def winChance(transitionMatrix): #init of recursive function\n",
    "    startState = gameState()\n",
    "    startState.setFromData(0,0,0,0)\n",
    "    return winChanceRecurs(transitionMatrix, startState.toNum())\n",
    "\n",
    "def winChanceRecurs(data, y): #the probability of winning given the probability matrix\n",
    "    #state = gameState() #debug\n",
    "    #state.setFromNum(y) \n",
    "    #print(state)\n",
    "    \n",
    "    chance = 0\n",
    "    dim = np.shape(data)\n",
    "    isGameEnd = True\n",
    "    for x in range(dim[1]):\n",
    "        if(data[y][x] != 0):\n",
    "            chance = chance + data[y][x]*winChanceRecurs(data, x)\n",
    "            isGameEnd = False\n",
    "    \n",
    "    if(isGameEnd): #matrix had no prob values, must be the end of a game\n",
    "        state = gameState()\n",
    "        state.setFromNum(y) #set state, must be end state flag\n",
    "        return int(state.getEndResult() == 1) #prob of 1 if the end state was a home win\n",
    "            \n",
    "    return chance\n",
    "\n",
    "startTime = time.time()\n",
    "#winRate = winChance(stateTran)\n",
    "#print(winRate)\n",
    "print(\"Time elapsed: \", time.time() - startTime)"
   ]
  },
  {
   "cell_type": "code",
   "execution_count": 35,
   "metadata": {},
   "outputs": [
    {
     "name": "stdout",
     "output_type": "stream",
     "text": [
      "{'Inning': 0, 'Outs': 0, 'Bases': 000, 'Score': 1} , chance:  0.48198233298358917\n",
      "{'Inning': 0, 'Outs': 0, 'Bases': 000, 'Score': 2} , chance:  0.5180176670164035\n",
      "Time elapsed:  1716.050999879837\n"
     ]
    }
   ],
   "source": [
    "startTime = time.time()\n",
    "\n",
    "startState = gameState()\n",
    "endState = gameState()\n",
    "startState.setFromData(0,0,0,0)\n",
    "\n",
    "winMatrix = np.linalg.matrix_power(stateTran, 512) #almost any game should be over by 512 states or \"plays\"\n",
    "\n",
    "y = startState.toNum()\n",
    "\n",
    "for x in range(matrixDim[1]):\n",
    "    if(winMatrix[y][x] > .000001):\n",
    "        endState.setFromNum(x)\n",
    "        print(endState, \", chance: \", winMatrix[y][x])\n",
    "print(\"Time elapsed: \", time.time() - startTime)"
   ]
  },
  {
   "cell_type": "code",
   "execution_count": null,
   "metadata": {},
   "outputs": [],
   "source": []
  }
 ],
 "metadata": {
  "kernelspec": {
   "display_name": "Python 3",
   "language": "python",
   "name": "python3"
  },
  "language_info": {
   "codemirror_mode": {
    "name": "ipython",
    "version": 3
   },
   "file_extension": ".py",
   "mimetype": "text/x-python",
   "name": "python",
   "nbconvert_exporter": "python",
   "pygments_lexer": "ipython3",
   "version": "3.8.8"
  }
 },
 "nbformat": 4,
 "nbformat_minor": 4
}
