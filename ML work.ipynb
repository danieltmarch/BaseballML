{
 "cells": [
  {
   "cell_type": "code",
   "execution_count": 1,
   "id": "injured-license",
   "metadata": {},
   "outputs": [],
   "source": [
    "import numpy as np\n",
    "import matplotlib.pyplot as plt\n",
    "import random\n",
    "\n",
    "import tensorflow as tf\n",
    "from tensorflow import keras"
   ]
  },
  {
   "cell_type": "markdown",
   "id": "photographic-maldives",
   "metadata": {},
   "source": [
    "### Split Data into train, val, test\n",
    "Val and Test make up about 1/6 of the data each\n",
    "This portion should only be ran once"
   ]
  },
  {
   "cell_type": "code",
   "execution_count": 3,
   "id": "comparative-failing",
   "metadata": {},
   "outputs": [
    {
     "name": "stdout",
     "output_type": "stream",
     "text": [
      "48555\n"
     ]
    }
   ],
   "source": [
    "data = []\n",
    "with open(\"F:\\\\Users\\\\Daniel\\\\Machine Learning Work\\\\Baseball work\\\\Game Log Data\\\\BaseballData.txt\", \"r\") as dataFile:\n",
    "    for line in dataFile:\n",
    "        data.append(line)\n",
    "print(len(data))"
   ]
  },
  {
   "cell_type": "code",
   "execution_count": 4,
   "id": "fewer-contest",
   "metadata": {},
   "outputs": [
    {
     "name": "stdout",
     "output_type": "stream",
     "text": [
      "32555\n",
      "8000\n",
      "8000\n"
     ]
    }
   ],
   "source": [
    "testSize = 8000\n",
    "valSize = 8000\n",
    "trainSize = len(data) - testSize - valSize\n",
    "\n",
    "random.shuffle(data)\n",
    "\n",
    "trainData = data[0:trainSize]\n",
    "valData = data[trainSize: trainSize + valSize]\n",
    "testData = data[trainSize + valSize :]\n",
    "print(len(trainData))\n",
    "print(len(valData))\n",
    "print(len(testData))\n",
    "\n",
    "with open(\"F:\\\\Users\\\\Daniel\\\\Machine Learning Work\\\\Baseball work\\\\ML Data\\\\train.txt\", \"w\") as trainFile:\n",
    "    for line in trainData:\n",
    "        trainFile.write(line)\n",
    "        \n",
    "with open(\"F:\\\\Users\\\\Daniel\\\\Machine Learning Work\\\\Baseball work\\\\ML Data\\\\val.txt\", \"w\") as valFile:\n",
    "    for line in valData:\n",
    "        valFile.write(line)\n",
    "        \n",
    "with open(\"F:\\\\Users\\\\Daniel\\\\Machine Learning Work\\\\Baseball work\\\\ML Data\\\\test.txt\", \"w\") as testFile:\n",
    "    for line in testData:\n",
    "        testFile.write(line)"
   ]
  },
  {
   "cell_type": "markdown",
   "id": "detected-biotechnology",
   "metadata": {},
   "source": [
    "### Read/Load the data and normalize"
   ]
  },
  {
   "cell_type": "code",
   "execution_count": 24,
   "id": "relative-omega",
   "metadata": {},
   "outputs": [
    {
     "name": "stdout",
     "output_type": "stream",
     "text": [
      "(32555, 474)\n"
     ]
    }
   ],
   "source": [
    "def normalizePitcherData(data):\n",
    "    for i in range(len(data)):\n",
    "        #note normalizing here puts most values around the -1 to 1 range but many fields don't strictly follow this\n",
    "        if(data[i][0] != 0):\n",
    "            data[i][1:26] = data[i][1:26]/data[i][0] #what percentage of pitched games this happened / how many times per pitched game\n",
    "        data[i][0] = data[i][0]/162 #what percentage of games the player pitches in\n",
    "        #26,27,28,29 don't need to be changed\n",
    "    return data\n",
    "    \n",
    "def normalizeBatterData(data):\n",
    "    for i in range(len(data)):\n",
    "        #note normalizing here puts most values around the -1 to 1 range but many fields don't strictly follow this\n",
    "        if(data[i][1] != 0):\n",
    "            data[i][2:19] = data[i][2:19]/data[i][1] #get average per at bat\n",
    "        if(data[i][0] != 0):\n",
    "            data[i][1] = data[i][1]/data[i][0] #avr. bats per batted game\n",
    "        data[i][0] = data[i][0]/162 #shows what percent of games the player batts in\n",
    "        #19,20,21,22 don't need to be changed\n",
    "    return data\n",
    "\n",
    "def getDataFromFile(fileName):\n",
    "    fileData=np.loadtxt(fileName, delimiter=',') \n",
    "    [N,dim]=np.shape(fileData) #set up matrix from file\n",
    "    \n",
    "    dataX = np.zeros((N, dim))\n",
    "    dataY = np.zeros((N))\n",
    "    \n",
    "    dataX = fileData[:, 0:dim - 1]\n",
    "    dataY[:] = fileData[:, dim - 1]\n",
    "    \n",
    "    startIndex = 0\n",
    "    #format of dataX:\n",
    "    #home pitcher data (30 fields)\n",
    "    dataX[:, startIndex:startIndex + 30] = normalizePitcherData(dataX[:, startIndex:startIndex + 30])\n",
    "    startIndex = startIndex + 30\n",
    "    #home batter 1 (23 fields)\n",
    "    #home batter 2 (23 fields)\n",
    "    #...\n",
    "    #home batter 9 (23 fields)\n",
    "    for i in range(9):\n",
    "        dataX[:, startIndex:startIndex + 23] = normalizeBatterData(dataX[:, startIndex:startIndex + 23])\n",
    "        startIndex = startIndex + 23\n",
    "    \n",
    "    #away pitcher data (30 fields)\n",
    "    dataX[:, startIndex:startIndex + 30] = normalizePitcherData(dataX[:, startIndex:startIndex + 30])\n",
    "    startIndex = startIndex + 30\n",
    "    #away batter 1 (23 fields)\n",
    "    #away batter 2 (23 fields)\n",
    "    #...\n",
    "    #away batter 9 (23 fields)\n",
    "    for i in range(9):\n",
    "        dataX[:, startIndex:startIndex + 23] = normalizeBatterData(dataX[:, startIndex:startIndex + 23])\n",
    "        startIndex = startIndex + 23\n",
    "    \n",
    "    #for pitcher data: divide all fields by 162 to normalize\n",
    "    return dataX, dataY\n",
    "    \n",
    "trainFileName = \"F:\\\\Users\\\\Daniel\\\\Machine Learning Work\\\\Baseball work\\\\ML Data\\\\train.txt\"\n",
    "valFileName = \"F:\\\\Users\\\\Daniel\\\\Machine Learning Work\\\\Baseball work\\\\ML Data\\\\val.txt\"\n",
    "testFileName = \"F:\\\\Users\\\\Daniel\\\\Machine Learning Work\\\\Baseball work\\\\ML Data\\\\test.txt\"\n",
    "\n",
    "trainX, trainY = getDataFromFile(trainFileName)\n",
    "valX, valY = getDataFromFile(valFileName)\n",
    "testX, testY = getDataFromFile(testFileName)#\n",
    "\n",
    "print(np.shape(trainX))"
   ]
  },
  {
   "cell_type": "markdown",
   "id": "acknowledged-essex",
   "metadata": {},
   "source": [
    "### Setup NN model"
   ]
  },
  {
   "cell_type": "code",
   "execution_count": 27,
   "id": "qualified-cursor",
   "metadata": {},
   "outputs": [
    {
     "name": "stdout",
     "output_type": "stream",
     "text": [
      "Epoch 1/100\n",
      "1018/1018 [==============================] - 54s 51ms/step - loss: 0.7001 - accuracy: 0.5393 - val_loss: 0.6914 - val_accuracy: 0.5430001 - accuracy: 0.\n",
      "Epoch 2/100\n",
      "1018/1018 [==============================] - 59s 58ms/step - loss: 0.6895 - accuracy: 0.5479 - val_loss: 0.6814 - val_accuracy: 0.5785\n",
      "Epoch 3/100\n",
      "1018/1018 [==============================] - 61s 60ms/step - loss: 0.6879 - accuracy: 0.5485 - val_loss: 0.6837 - val_accuracy: 0.5774\n",
      "Epoch 4/100\n",
      "1018/1018 [==============================] - 53s 52ms/step - loss: 0.6847 - accuracy: 0.5597 - val_loss: 0.6836 - val_accuracy: 0.5614\n",
      "Epoch 5/100\n",
      "1018/1018 [==============================] - 53s 52ms/step - loss: 0.6816 - accuracy: 0.5720 - val_loss: 0.6853 - val_accuracy: 0.5449\n",
      "Epoch 6/100\n",
      "1018/1018 [==============================] - 53s 52ms/step - loss: 0.6788 - accuracy: 0.5727 - val_loss: 0.6741 - val_accuracy: 0.5881\n",
      "Epoch 7/100\n",
      "1018/1018 [==============================] - 53s 52ms/step - loss: 0.6779 - accuracy: 0.5756 - val_loss: 0.6946 - val_accuracy: 0.5832\n",
      "Epoch 8/100\n",
      "1018/1018 [==============================] - 59s 58ms/step - loss: 0.6783 - accuracy: 0.5782 - val_loss: 0.6759 - val_accuracy: 0.5726\n",
      "Epoch 9/100\n",
      "1018/1018 [==============================] - 56s 55ms/step - loss: 0.6727 - accuracy: 0.5834 - val_loss: 0.6704 - val_accuracy: 0.5794\n",
      "Epoch 10/100\n",
      "1018/1018 [==============================] - 55s 54ms/step - loss: 0.6718 - accuracy: 0.5879 - val_loss: 0.6753 - val_accuracy: 0.5830\n",
      "Epoch 11/100\n",
      "1018/1018 [==============================] - 56s 55ms/step - loss: 0.6744 - accuracy: 0.5841 - val_loss: 0.6724 - val_accuracy: 0.5806\n",
      "Epoch 12/100\n",
      "1018/1018 [==============================] - 57s 56ms/step - loss: 0.6718 - accuracy: 0.5872 - val_loss: 0.6711 - val_accuracy: 0.5925\n",
      "Epoch 13/100\n",
      "1018/1018 [==============================] - 57s 56ms/step - loss: 0.6708 - accuracy: 0.5863 - val_loss: 0.6672 - val_accuracy: 0.5916\n",
      "Epoch 14/100\n",
      "1018/1018 [==============================] - 55s 54ms/step - loss: 0.6718 - accuracy: 0.5859 - val_loss: 0.6673 - val_accuracy: 0.5896\n",
      "Epoch 15/100\n",
      "1018/1018 [==============================] - 55s 54ms/step - loss: 0.6677 - accuracy: 0.5959 - val_loss: 0.6691 - val_accuracy: 0.5897\n",
      "Epoch 16/100\n",
      "1018/1018 [==============================] - 54s 53ms/step - loss: 0.6695 - accuracy: 0.5877 - val_loss: 0.6663 - val_accuracy: 0.5893\n",
      "Epoch 17/100\n",
      "1018/1018 [==============================] - 55s 54ms/step - loss: 0.6709 - accuracy: 0.5831 - val_loss: 0.6796 - val_accuracy: 0.5842\n",
      "Epoch 18/100\n",
      "1018/1018 [==============================] - 55s 54ms/step - loss: 0.6702 - accuracy: 0.5855 - val_loss: 0.6681 - val_accuracy: 0.5906\n",
      "Epoch 19/100\n",
      "1018/1018 [==============================] - 55s 54ms/step - loss: 0.6676 - accuracy: 0.5934 - val_loss: 0.6699 - val_accuracy: 0.5886\n",
      "Epoch 20/100\n",
      "1018/1018 [==============================] - 53s 52ms/step - loss: 0.6675 - accuracy: 0.5924 - val_loss: 0.6687 - val_accuracy: 0.5871\n",
      "Epoch 21/100\n",
      "1018/1018 [==============================] - 52s 51ms/step - loss: 0.6658 - accuracy: 0.5944 - val_loss: 0.6664 - val_accuracy: 0.5888\n",
      "Epoch 22/100\n",
      "1018/1018 [==============================] - 53s 52ms/step - loss: 0.6663 - accuracy: 0.5926 - val_loss: 0.6718 - val_accuracy: 0.5878\n",
      "Epoch 23/100\n",
      "1018/1018 [==============================] - 55s 54ms/step - loss: 0.6657 - accuracy: 0.5954 - val_loss: 0.6663 - val_accuracy: 0.5879\n",
      "Epoch 24/100\n",
      "1018/1018 [==============================] - 56s 55ms/step - loss: 0.6671 - accuracy: 0.5905 - val_loss: 0.6666 - val_accuracy: 0.5896\n",
      "Epoch 25/100\n",
      "1018/1018 [==============================] - 52s 51ms/step - loss: 0.6651 - accuracy: 0.5963 - val_loss: 0.6685 - val_accuracy: 0.5859\n",
      "Epoch 26/100\n",
      "1018/1018 [==============================] - 56s 55ms/step - loss: 0.6656 - accuracy: 0.5885 - val_loss: 0.6673 - val_accuracy: 0.5910\n",
      "Epoch 27/100\n",
      "1018/1018 [==============================] - 55s 54ms/step - loss: 0.6617 - accuracy: 0.5957 - val_loss: 0.6679 - val_accuracy: 0.5860\n",
      "Epoch 28/100\n",
      "1018/1018 [==============================] - 57s 56ms/step - loss: 0.6658 - accuracy: 0.5915 - val_loss: 0.6656 - val_accuracy: 0.5901\n",
      "Epoch 29/100\n",
      "1018/1018 [==============================] - 58s 57ms/step - loss: 0.6636 - accuracy: 0.5933 - val_loss: 0.6689 - val_accuracy: 0.5922\n",
      "Epoch 30/100\n",
      "1018/1018 [==============================] - 53s 52ms/step - loss: 0.6652 - accuracy: 0.5891 - val_loss: 0.6696 - val_accuracy: 0.5872\n",
      "Epoch 31/100\n",
      "1018/1018 [==============================] - 54s 53ms/step - loss: 0.6618 - accuracy: 0.5992 - val_loss: 0.6710 - val_accuracy: 0.5903\n",
      "Epoch 32/100\n",
      "1018/1018 [==============================] - 57s 56ms/step - loss: 0.6667 - accuracy: 0.5893 - val_loss: 0.6664 - val_accuracy: 0.5889\n",
      "Epoch 33/100\n",
      "1018/1018 [==============================] - 55s 54ms/step - loss: 0.6625 - accuracy: 0.5961 - val_loss: 0.6755 - val_accuracy: 0.5839\n",
      "Epoch 34/100\n",
      "1018/1018 [==============================] - 49s 48ms/step - loss: 0.6603 - accuracy: 0.5969 - val_loss: 0.6746 - val_accuracy: 0.5865\n",
      "Epoch 35/100\n",
      "1018/1018 [==============================] - 49s 48ms/step - loss: 0.6615 - accuracy: 0.5993 - val_loss: 0.6691 - val_accuracy: 0.58300s - loss: 0.6615 - accuracy\n",
      "Epoch 36/100\n",
      "1018/1018 [==============================] - 48s 47ms/step - loss: 0.6609 - accuracy: 0.5998 - val_loss: 0.6674 - val_accuracy: 0.5882\n",
      "Epoch 37/100\n",
      "1018/1018 [==============================] - 49s 48ms/step - loss: 0.6599 - accuracy: 0.5924 - val_loss: 0.6688 - val_accuracy: 0.5850\n",
      "Epoch 38/100\n",
      "1018/1018 [==============================] - 51s 50ms/step - loss: 0.6618 - accuracy: 0.5972 - val_loss: 0.6692 - val_accuracy: 0.5840\n",
      "Epoch 39/100\n",
      "1018/1018 [==============================] - 49s 49ms/step - loss: 0.6602 - accuracy: 0.5997 - val_loss: 0.6695 - val_accuracy: 0.5890\n",
      "Epoch 40/100\n",
      "1018/1018 [==============================] - 51s 51ms/step - loss: 0.6617 - accuracy: 0.5952 - val_loss: 0.6687 - val_accuracy: 0.5878\n",
      "Epoch 41/100\n",
      "1018/1018 [==============================] - 51s 51ms/step - loss: 0.6628 - accuracy: 0.5938 - val_loss: 0.6700 - val_accuracy: 0.5836\n",
      "Epoch 42/100\n",
      "1018/1018 [==============================] - 52s 51ms/step - loss: 0.6606 - accuracy: 0.5997 - val_loss: 0.6682 - val_accuracy: 0.5875\n",
      "Epoch 43/100\n",
      "1018/1018 [==============================] - 50s 49ms/step - loss: 0.6576 - accuracy: 0.6036 - val_loss: 0.6700 - val_accuracy: 0.5774\n",
      "Epoch 44/100\n",
      "1018/1018 [==============================] - 52s 51ms/step - loss: 0.6584 - accuracy: 0.6036 - val_loss: 0.6687 - val_accuracy: 0.5894\n",
      "Epoch 45/100\n",
      "1018/1018 [==============================] - 49s 48ms/step - loss: 0.6568 - accuracy: 0.6073 - val_loss: 0.6688 - val_accuracy: 0.5865\n",
      "Epoch 46/100\n",
      "1018/1018 [==============================] - 49s 48ms/step - loss: 0.6556 - accuracy: 0.6011 - val_loss: 0.6750 - val_accuracy: 0.5874\n",
      "Epoch 47/100\n",
      "1018/1018 [==============================] - 49s 48ms/step - loss: 0.6577 - accuracy: 0.5999 - val_loss: 0.6691 - val_accuracy: 0.5855\n",
      "Epoch 48/100\n",
      "1018/1018 [==============================] - 48s 47ms/step - loss: 0.6576 - accuracy: 0.6019 - val_loss: 0.6712 - val_accuracy: 0.5884\n",
      "Epoch 49/100\n",
      "1018/1018 [==============================] - 47s 47ms/step - loss: 0.6563 - accuracy: 0.6034 - val_loss: 0.6691 - val_accuracy: 0.5857\n",
      "Epoch 50/100\n",
      "1018/1018 [==============================] - 48s 48ms/step - loss: 0.6563 - accuracy: 0.6022 - val_loss: 0.6701 - val_accuracy: 0.5847\n",
      "Epoch 51/100\n",
      "1018/1018 [==============================] - 48s 47ms/step - loss: 0.6543 - accuracy: 0.6045 - val_loss: 0.6715 - val_accuracy: 0.5775\n",
      "Epoch 52/100\n",
      "1018/1018 [==============================] - 48s 47ms/step - loss: 0.6572 - accuracy: 0.5989 - val_loss: 0.6736 - val_accuracy: 0.5881\n",
      "Epoch 53/100\n",
      "1018/1018 [==============================] - 50s 49ms/step - loss: 0.6570 - accuracy: 0.6018 - val_loss: 0.6686 - val_accuracy: 0.5903\n",
      "Epoch 54/100\n",
      "1018/1018 [==============================] - 51s 51ms/step - loss: 0.6524 - accuracy: 0.6072 - val_loss: 0.6799 - val_accuracy: 0.5834\n",
      "Epoch 55/100\n",
      "1018/1018 [==============================] - 49s 48ms/step - loss: 0.6538 - accuracy: 0.6076 - val_loss: 0.6730 - val_accuracy: 0.5872\n",
      "Epoch 56/100\n"
     ]
    },
    {
     "name": "stdout",
     "output_type": "stream",
     "text": [
      "1018/1018 [==============================] - 49s 48ms/step - loss: 0.6540 - accuracy: 0.6000 - val_loss: 0.6791 - val_accuracy: 0.5840\n",
      "Epoch 57/100\n",
      "1018/1018 [==============================] - 53s 52ms/step - loss: 0.6536 - accuracy: 0.6001 - val_loss: 0.6738 - val_accuracy: 0.5882\n",
      "Epoch 58/100\n",
      "1018/1018 [==============================] - 55s 54ms/step - loss: 0.6508 - accuracy: 0.6122 - val_loss: 0.6734 - val_accuracy: 0.5836\n",
      "Epoch 59/100\n",
      "1018/1018 [==============================] - 58s 57ms/step - loss: 0.6546 - accuracy: 0.6038 - val_loss: 0.6854 - val_accuracy: 0.5726\n",
      "Epoch 60/100\n",
      "1018/1018 [==============================] - 57s 56ms/step - loss: 0.6535 - accuracy: 0.6061 - val_loss: 0.6713 - val_accuracy: 0.5899\n",
      "Epoch 61/100\n",
      "1018/1018 [==============================] - 49s 48ms/step - loss: 0.6507 - accuracy: 0.6067 - val_loss: 0.6749 - val_accuracy: 0.5856\n",
      "Epoch 62/100\n",
      "1018/1018 [==============================] - 50s 49ms/step - loss: 0.6514 - accuracy: 0.6093 - val_loss: 0.6754 - val_accuracy: 0.5878\n",
      "Epoch 63/100\n",
      "1018/1018 [==============================] - 49s 48ms/step - loss: 0.6554 - accuracy: 0.6038 - val_loss: 0.6714 - val_accuracy: 0.5914\n",
      "Epoch 64/100\n",
      "1018/1018 [==============================] - 51s 50ms/step - loss: 0.6523 - accuracy: 0.6057 - val_loss: 0.6803 - val_accuracy: 0.5853\n",
      "Epoch 65/100\n",
      "1018/1018 [==============================] - 52s 51ms/step - loss: 0.6533 - accuracy: 0.6085 - val_loss: 0.6724 - val_accuracy: 0.5838\n",
      "Epoch 66/100\n",
      "1018/1018 [==============================] - 49s 48ms/step - loss: 0.6507 - accuracy: 0.6087 - val_loss: 0.6746 - val_accuracy: 0.5875\n",
      "Epoch 67/100\n",
      "1018/1018 [==============================] - 56s 55ms/step - loss: 0.6493 - accuracy: 0.6103 - val_loss: 0.6755 - val_accuracy: 0.5861\n",
      "Epoch 68/100\n",
      "1018/1018 [==============================] - 72s 71ms/step - loss: 0.6489 - accuracy: 0.6095 - val_loss: 0.6742 - val_accuracy: 0.5845\n",
      "Epoch 69/100\n",
      "1018/1018 [==============================] - 74s 73ms/step - loss: 0.6482 - accuracy: 0.6108 - val_loss: 0.6775 - val_accuracy: 0.5889\n",
      "Epoch 70/100\n",
      "1018/1018 [==============================] - 76s 75ms/step - loss: 0.6526 - accuracy: 0.6060 - val_loss: 0.6963 - val_accuracy: 0.5740\n",
      "Epoch 71/100\n",
      "1018/1018 [==============================] - 73s 72ms/step - loss: 0.6445 - accuracy: 0.6176 - val_loss: 0.7000 - val_accuracy: 0.5795\n",
      "Epoch 72/100\n",
      "1018/1018 [==============================] - 71s 70ms/step - loss: 0.6455 - accuracy: 0.6128 - val_loss: 0.6756 - val_accuracy: 0.5844\n",
      "Epoch 73/100\n",
      "1018/1018 [==============================] - 55s 54ms/step - loss: 0.6448 - accuracy: 0.6154 - val_loss: 0.6818 - val_accuracy: 0.5771\n",
      "Epoch 74/100\n",
      "1018/1018 [==============================] - 50s 49ms/step - loss: 0.6468 - accuracy: 0.6119 - val_loss: 0.6839 - val_accuracy: 0.5806\n",
      "Epoch 75/100\n",
      "1018/1018 [==============================] - 49s 48ms/step - loss: 0.6483 - accuracy: 0.6085 - val_loss: 0.6774 - val_accuracy: 0.5803\n",
      "Epoch 76/100\n",
      "1018/1018 [==============================] - 50s 49ms/step - loss: 0.6457 - accuracy: 0.6133 - val_loss: 0.6820 - val_accuracy: 0.5854\n",
      "Epoch 77/100\n",
      "1018/1018 [==============================] - 53s 52ms/step - loss: 0.6437 - accuracy: 0.6151 - val_loss: 0.6801 - val_accuracy: 0.5849\n",
      "Epoch 78/100\n",
      "1018/1018 [==============================] - 51s 50ms/step - loss: 0.6448 - accuracy: 0.6120 - val_loss: 0.6902 - val_accuracy: 0.5734\n",
      "Epoch 79/100\n",
      "1018/1018 [==============================] - 55s 54ms/step - loss: 0.6452 - accuracy: 0.6149 - val_loss: 0.6926 - val_accuracy: 0.5814\n",
      "Epoch 80/100\n",
      "1018/1018 [==============================] - 58s 57ms/step - loss: 0.6453 - accuracy: 0.6144 - val_loss: 0.6925 - val_accuracy: 0.5736\n",
      "Epoch 81/100\n",
      "1018/1018 [==============================] - 58s 57ms/step - loss: 0.6441 - accuracy: 0.6165 - val_loss: 0.6875 - val_accuracy: 0.5861\n",
      "Epoch 82/100\n",
      "1018/1018 [==============================] - 57s 56ms/step - loss: 0.6428 - accuracy: 0.6199 - val_loss: 0.7049 - val_accuracy: 0.5851\n",
      "Epoch 83/100\n",
      "1018/1018 [==============================] - 59s 58ms/step - loss: 0.6403 - accuracy: 0.6166 - val_loss: 0.7264 - val_accuracy: 0.5702\n",
      "Epoch 84/100\n",
      "1018/1018 [==============================] - 60s 59ms/step - loss: 0.6405 - accuracy: 0.6182 - val_loss: 0.6856 - val_accuracy: 0.5861\n",
      "Epoch 85/100\n",
      "1018/1018 [==============================] - 58s 57ms/step - loss: 0.6363 - accuracy: 0.6276 - val_loss: 0.6869 - val_accuracy: 0.5832\n",
      "Epoch 86/100\n",
      "1018/1018 [==============================] - 58s 57ms/step - loss: 0.6434 - accuracy: 0.6146 - val_loss: 0.7160 - val_accuracy: 0.5886\n",
      "Epoch 87/100\n",
      "1018/1018 [==============================] - 51s 50ms/step - loss: 0.6417 - accuracy: 0.6154 - val_loss: 0.6794 - val_accuracy: 0.5838\n",
      "Epoch 88/100\n",
      "1018/1018 [==============================] - 48s 47ms/step - loss: 0.6400 - accuracy: 0.6188 - val_loss: 0.6904 - val_accuracy: 0.5831\n",
      "Epoch 89/100\n",
      "1018/1018 [==============================] - 48s 47ms/step - loss: 0.6374 - accuracy: 0.6232 - val_loss: 0.6919 - val_accuracy: 0.5799\n",
      "Epoch 90/100\n",
      "1018/1018 [==============================] - 51s 50ms/step - loss: 0.6403 - accuracy: 0.6199 - val_loss: 0.6965 - val_accuracy: 0.5815\n",
      "Epoch 91/100\n",
      "1018/1018 [==============================] - 49s 48ms/step - loss: 0.6369 - accuracy: 0.6262 - val_loss: 0.6953 - val_accuracy: 0.5807\n",
      "Epoch 92/100\n",
      "1018/1018 [==============================] - 48s 47ms/step - loss: 0.6416 - accuracy: 0.6179 - val_loss: 0.6926 - val_accuracy: 0.5839\n",
      "Epoch 93/100\n",
      "1018/1018 [==============================] - 50s 49ms/step - loss: 0.6353 - accuracy: 0.6232 - val_loss: 0.6985 - val_accuracy: 0.5816\n",
      "Epoch 94/100\n",
      "1018/1018 [==============================] - 70s 69ms/step - loss: 0.6338 - accuracy: 0.6267 - val_loss: 0.7049 - val_accuracy: 0.5816\n",
      "Epoch 95/100\n",
      "1018/1018 [==============================] - 80s 79ms/step - loss: 0.6363 - accuracy: 0.6208 - val_loss: 0.7215 - val_accuracy: 0.5794\n",
      "Epoch 96/100\n",
      "1018/1018 [==============================] - 62s 61ms/step - loss: 0.6382 - accuracy: 0.6234 - val_loss: 0.6860 - val_accuracy: 0.5866\n",
      "Epoch 97/100\n",
      "1018/1018 [==============================] - 48s 47ms/step - loss: 0.6357 - accuracy: 0.6264 - val_loss: 0.7090 - val_accuracy: 0.5811\n",
      "Epoch 98/100\n",
      "1018/1018 [==============================] - 49s 48ms/step - loss: 0.6340 - accuracy: 0.6284 - val_loss: 0.6999 - val_accuracy: 0.5799\n",
      "Epoch 99/100\n",
      "1018/1018 [==============================] - 65s 64ms/step - loss: 0.6335 - accuracy: 0.6236 - val_loss: 0.7081 - val_accuracy: 0.5784\n",
      "Epoch 100/100\n",
      "1018/1018 [==============================] - 70s 69ms/step - loss: 0.6324 - accuracy: 0.6275 - val_loss: 0.7099 - val_accuracy: 0.5813\n"
     ]
    }
   ],
   "source": [
    "regParam = keras.regularizers.l2(.000001) #create regularization parameter\n",
    "# ctrl + / to remove block comment\n",
    "model = tf.keras.Sequential([\n",
    "        keras.layers.Dense(units=np.shape(trainX)[1], activation='relu', kernel_regularizer=regParam),\n",
    "        keras.layers.Dense(units=600, activation='relu', kernel_regularizer=regParam),\n",
    "        keras.layers.Dense(units=800, activation='relu', kernel_regularizer=regParam),\n",
    "        keras.layers.Dense(units=1000, activation='relu', kernel_regularizer=regParam),\n",
    "        keras.layers.Dense(units=800, activation='relu', kernel_regularizer=regParam),\n",
    "        keras.layers.Dense(units=400, activation='relu', kernel_regularizer=regParam),\n",
    "        keras.layers.Dense(units=200, activation='relu', kernel_regularizer=regParam),\n",
    "        keras.layers.Dense(units=100, activation='relu', kernel_regularizer=regParam),\n",
    "        keras.layers.Dense(units=25, activation='relu', kernel_regularizer=regParam),\n",
    "        keras.layers.Dense(units=1, activation='sigmoid')\n",
    "    ])\n",
    "\n",
    "model.compile(optimizer='adam', loss=tf.keras.losses.BinaryCrossentropy(from_logits=True), metrics=['accuracy'])\n",
    "\n",
    "historyData = model.fit(trainX, trainY, validation_data=(valX, valY), epochs=100, verbose=1)"
   ]
  },
  {
   "cell_type": "code",
   "execution_count": 87,
   "id": "twenty-retailer",
   "metadata": {},
   "outputs": [
    {
     "data": {
      "image/png": "[encoded data removed]",
      "text/plain": [
       "<Figure size 1296x576 with 1 Axes>"
      ]
     },
     "metadata": {
      "needs_background": "light"
     },
     "output_type": "display_data"
    }
   ],
   "source": [
    "eIn = historyData.history[\"accuracy\"]\n",
    "eOut = historyData.history[\"val_accuracy\"]\n",
    "\n",
    "fig, ax = plt.subplots(figsize=(18,8))\n",
    "\n",
    "ax.plot(eIn, color=(.9,.9,0), label=\"Train Acc.\")\n",
    "ax.plot(eOut, color=(0,.9,.9), label=\"Val Acc.\")\n",
    "\n",
    "ax.legend(fontsize=24)\n",
    "ax.set_xlabel(\"Epochs\", fontsize=24)\n",
    "ax.set_ylabel(\"Accuracy\", fontsize=24)\n",
    "\n",
    "ax.tick_params(axis='both', labelsize=20)"
   ]
  },
  {
   "cell_type": "code",
   "execution_count": null,
   "id": "forty-lexington",
   "metadata": {},
   "outputs": [],
   "source": []
  },
  {
   "cell_type": "code",
   "execution_count": null,
   "id": "inappropriate-biology",
   "metadata": {},
   "outputs": [],
   "source": []
  },
  {
   "cell_type": "code",
   "execution_count": null,
   "id": "herbal-copying",
   "metadata": {},
   "outputs": [],
   "source": []
  },
  {
   "cell_type": "code",
   "execution_count": 21,
   "id": "prospective-explanation",
   "metadata": {
    "scrolled": true
   },
   "outputs": [
    {
     "name": "stdout",
     "output_type": "stream",
     "text": [
      "For lamda=1e-06: \n",
      "Epoch 1/50\n",
      "1018/1018 [==============================] - 56s 53ms/step - loss: 1.1365 - accuracy: 0.5450 - val_loss: 0.6895 - val_accuracy: 0.5470\n",
      "Epoch 2/50\n",
      " 113/1018 [==>...........................] - ETA: 47s - loss: 0.6827 - accuracy: 0.5704"
     ]
    },
    {
     "ename": "KeyboardInterrupt",
     "evalue": "",
     "output_type": "error",
     "traceback": [
      "\u001b[1;31m---------------------------------------------------------------------------\u001b[0m",
      "\u001b[1;31mKeyboardInterrupt\u001b[0m                         Traceback (most recent call last)",
      "\u001b[1;32m<ipython-input-21-3809fcd13448>\u001b[0m in \u001b[0;36m<module>\u001b[1;34m\u001b[0m\n\u001b[0;32m     20\u001b[0m     \u001b[0mepochCount\u001b[0m \u001b[1;33m=\u001b[0m \u001b[1;36m50\u001b[0m\u001b[1;33m\u001b[0m\u001b[1;33m\u001b[0m\u001b[0m\n\u001b[0;32m     21\u001b[0m     \u001b[0mprint\u001b[0m\u001b[1;33m(\u001b[0m\u001b[1;34m\"For lamda=\"\u001b[0m \u001b[1;33m+\u001b[0m \u001b[0mstr\u001b[0m\u001b[1;33m(\u001b[0m\u001b[0mlamda\u001b[0m\u001b[1;33m)\u001b[0m \u001b[1;33m+\u001b[0m \u001b[1;34m\": \"\u001b[0m\u001b[1;33m)\u001b[0m\u001b[1;33m\u001b[0m\u001b[1;33m\u001b[0m\u001b[0m\n\u001b[1;32m---> 22\u001b[1;33m     \u001b[0meIn\u001b[0m\u001b[1;33m,\u001b[0m \u001b[0meOut\u001b[0m \u001b[1;33m=\u001b[0m \u001b[0mrunModel\u001b[0m\u001b[1;33m(\u001b[0m\u001b[0mtrainX\u001b[0m\u001b[1;33m,\u001b[0m \u001b[0mtrainY\u001b[0m\u001b[1;33m,\u001b[0m \u001b[0mvalX\u001b[0m\u001b[1;33m,\u001b[0m \u001b[0mvalY\u001b[0m\u001b[1;33m,\u001b[0m \u001b[0mmodelInter\u001b[0m\u001b[1;33m,\u001b[0m \u001b[0mepochCount\u001b[0m\u001b[1;33m,\u001b[0m \u001b[0mverbose\u001b[0m\u001b[1;33m=\u001b[0m\u001b[1;36m1\u001b[0m\u001b[1;33m)\u001b[0m\u001b[1;33m\u001b[0m\u001b[1;33m\u001b[0m\u001b[0m\n\u001b[0m\u001b[0;32m     23\u001b[0m     \u001b[0meInList\u001b[0m\u001b[1;33m.\u001b[0m\u001b[0mappend\u001b[0m\u001b[1;33m(\u001b[0m\u001b[0meIn\u001b[0m\u001b[1;33m[\u001b[0m\u001b[1;33m-\u001b[0m\u001b[1;36m1\u001b[0m\u001b[1;33m]\u001b[0m\u001b[1;33m)\u001b[0m \u001b[1;31m#training error\u001b[0m\u001b[1;33m\u001b[0m\u001b[1;33m\u001b[0m\u001b[0m\n\u001b[0;32m     24\u001b[0m     \u001b[0meOutList\u001b[0m\u001b[1;33m.\u001b[0m\u001b[0mappend\u001b[0m\u001b[1;33m(\u001b[0m\u001b[0meOut\u001b[0m\u001b[1;33m[\u001b[0m\u001b[1;33m-\u001b[0m\u001b[1;36m1\u001b[0m\u001b[1;33m]\u001b[0m\u001b[1;33m)\u001b[0m \u001b[1;31m#validation error\u001b[0m\u001b[1;33m\u001b[0m\u001b[1;33m\u001b[0m\u001b[0m\n",
      "\u001b[1;32m<ipython-input-13-bf566bfcf578>\u001b[0m in \u001b[0;36mrunModel\u001b[1;34m(trainX, trainY, testX, testY, model, epochCount, verbose)\u001b[0m\n\u001b[0;32m      5\u001b[0m               metrics=['accuracy'])\n\u001b[0;32m      6\u001b[0m \u001b[1;33m\u001b[0m\u001b[0m\n\u001b[1;32m----> 7\u001b[1;33m     \u001b[0mhistoryData\u001b[0m \u001b[1;33m=\u001b[0m \u001b[0mmodel\u001b[0m\u001b[1;33m.\u001b[0m\u001b[0mfit\u001b[0m\u001b[1;33m(\u001b[0m\u001b[0mtrainX\u001b[0m\u001b[1;33m,\u001b[0m \u001b[0mtrainY\u001b[0m\u001b[1;33m,\u001b[0m \u001b[0mvalidation_data\u001b[0m\u001b[1;33m=\u001b[0m\u001b[1;33m(\u001b[0m\u001b[0mtestX\u001b[0m\u001b[1;33m,\u001b[0m \u001b[0mtestY\u001b[0m\u001b[1;33m)\u001b[0m\u001b[1;33m,\u001b[0m \u001b[0mepochs\u001b[0m\u001b[1;33m=\u001b[0m\u001b[0mepochCount\u001b[0m\u001b[1;33m,\u001b[0m \u001b[0mverbose\u001b[0m\u001b[1;33m=\u001b[0m\u001b[0mverbose\u001b[0m\u001b[1;33m)\u001b[0m\u001b[1;33m\u001b[0m\u001b[1;33m\u001b[0m\u001b[0m\n\u001b[0m\u001b[0;32m      8\u001b[0m     \u001b[0meIn\u001b[0m \u001b[1;33m=\u001b[0m \u001b[0mhistoryData\u001b[0m\u001b[1;33m.\u001b[0m\u001b[0mhistory\u001b[0m\u001b[1;33m[\u001b[0m\u001b[1;34m\"accuracy\"\u001b[0m\u001b[1;33m]\u001b[0m\u001b[1;33m\u001b[0m\u001b[1;33m\u001b[0m\u001b[0m\n\u001b[0;32m      9\u001b[0m     \u001b[0meOut\u001b[0m \u001b[1;33m=\u001b[0m \u001b[0mhistoryData\u001b[0m\u001b[1;33m.\u001b[0m\u001b[0mhistory\u001b[0m\u001b[1;33m[\u001b[0m\u001b[1;34m\"val_accuracy\"\u001b[0m\u001b[1;33m]\u001b[0m\u001b[1;33m\u001b[0m\u001b[1;33m\u001b[0m\u001b[0m\n",
      "\u001b[1;32m~\\AppData\\Local\\Programs\\Python\\Python38\\lib\\site-packages\\tensorflow\\python\\keras\\engine\\training.py\u001b[0m in \u001b[0;36mfit\u001b[1;34m(self, x, y, batch_size, epochs, verbose, callbacks, validation_split, validation_data, shuffle, class_weight, sample_weight, initial_epoch, steps_per_epoch, validation_steps, validation_batch_size, validation_freq, max_queue_size, workers, use_multiprocessing)\u001b[0m\n\u001b[0;32m   1098\u001b[0m                 _r=1):\n\u001b[0;32m   1099\u001b[0m               \u001b[0mcallbacks\u001b[0m\u001b[1;33m.\u001b[0m\u001b[0mon_train_batch_begin\u001b[0m\u001b[1;33m(\u001b[0m\u001b[0mstep\u001b[0m\u001b[1;33m)\u001b[0m\u001b[1;33m\u001b[0m\u001b[1;33m\u001b[0m\u001b[0m\n\u001b[1;32m-> 1100\u001b[1;33m               \u001b[0mtmp_logs\u001b[0m \u001b[1;33m=\u001b[0m \u001b[0mself\u001b[0m\u001b[1;33m.\u001b[0m\u001b[0mtrain_function\u001b[0m\u001b[1;33m(\u001b[0m\u001b[0miterator\u001b[0m\u001b[1;33m)\u001b[0m\u001b[1;33m\u001b[0m\u001b[1;33m\u001b[0m\u001b[0m\n\u001b[0m\u001b[0;32m   1101\u001b[0m               \u001b[1;32mif\u001b[0m \u001b[0mdata_handler\u001b[0m\u001b[1;33m.\u001b[0m\u001b[0mshould_sync\u001b[0m\u001b[1;33m:\u001b[0m\u001b[1;33m\u001b[0m\u001b[1;33m\u001b[0m\u001b[0m\n\u001b[0;32m   1102\u001b[0m                 \u001b[0mcontext\u001b[0m\u001b[1;33m.\u001b[0m\u001b[0masync_wait\u001b[0m\u001b[1;33m(\u001b[0m\u001b[1;33m)\u001b[0m\u001b[1;33m\u001b[0m\u001b[1;33m\u001b[0m\u001b[0m\n",
      "\u001b[1;32m~\\AppData\\Local\\Programs\\Python\\Python38\\lib\\site-packages\\tensorflow\\python\\eager\\def_function.py\u001b[0m in \u001b[0;36m__call__\u001b[1;34m(self, *args, **kwds)\u001b[0m\n\u001b[0;32m    826\u001b[0m     \u001b[0mtracing_count\u001b[0m \u001b[1;33m=\u001b[0m \u001b[0mself\u001b[0m\u001b[1;33m.\u001b[0m\u001b[0mexperimental_get_tracing_count\u001b[0m\u001b[1;33m(\u001b[0m\u001b[1;33m)\u001b[0m\u001b[1;33m\u001b[0m\u001b[1;33m\u001b[0m\u001b[0m\n\u001b[0;32m    827\u001b[0m     \u001b[1;32mwith\u001b[0m \u001b[0mtrace\u001b[0m\u001b[1;33m.\u001b[0m\u001b[0mTrace\u001b[0m\u001b[1;33m(\u001b[0m\u001b[0mself\u001b[0m\u001b[1;33m.\u001b[0m\u001b[0m_name\u001b[0m\u001b[1;33m)\u001b[0m \u001b[1;32mas\u001b[0m \u001b[0mtm\u001b[0m\u001b[1;33m:\u001b[0m\u001b[1;33m\u001b[0m\u001b[1;33m\u001b[0m\u001b[0m\n\u001b[1;32m--> 828\u001b[1;33m       \u001b[0mresult\u001b[0m \u001b[1;33m=\u001b[0m \u001b[0mself\u001b[0m\u001b[1;33m.\u001b[0m\u001b[0m_call\u001b[0m\u001b[1;33m(\u001b[0m\u001b[1;33m*\u001b[0m\u001b[0margs\u001b[0m\u001b[1;33m,\u001b[0m \u001b[1;33m**\u001b[0m\u001b[0mkwds\u001b[0m\u001b[1;33m)\u001b[0m\u001b[1;33m\u001b[0m\u001b[1;33m\u001b[0m\u001b[0m\n\u001b[0m\u001b[0;32m    829\u001b[0m       \u001b[0mcompiler\u001b[0m \u001b[1;33m=\u001b[0m \u001b[1;34m\"xla\"\u001b[0m \u001b[1;32mif\u001b[0m \u001b[0mself\u001b[0m\u001b[1;33m.\u001b[0m\u001b[0m_experimental_compile\u001b[0m \u001b[1;32melse\u001b[0m \u001b[1;34m\"nonXla\"\u001b[0m\u001b[1;33m\u001b[0m\u001b[1;33m\u001b[0m\u001b[0m\n\u001b[0;32m    830\u001b[0m       \u001b[0mnew_tracing_count\u001b[0m \u001b[1;33m=\u001b[0m \u001b[0mself\u001b[0m\u001b[1;33m.\u001b[0m\u001b[0mexperimental_get_tracing_count\u001b[0m\u001b[1;33m(\u001b[0m\u001b[1;33m)\u001b[0m\u001b[1;33m\u001b[0m\u001b[1;33m\u001b[0m\u001b[0m\n",
      "\u001b[1;32m~\\AppData\\Local\\Programs\\Python\\Python38\\lib\\site-packages\\tensorflow\\python\\eager\\def_function.py\u001b[0m in \u001b[0;36m_call\u001b[1;34m(self, *args, **kwds)\u001b[0m\n\u001b[0;32m    853\u001b[0m       \u001b[1;31m# In this case we have created variables on the first call, so we run the\u001b[0m\u001b[1;33m\u001b[0m\u001b[1;33m\u001b[0m\u001b[1;33m\u001b[0m\u001b[0m\n\u001b[0;32m    854\u001b[0m       \u001b[1;31m# defunned version which is guaranteed to never create variables.\u001b[0m\u001b[1;33m\u001b[0m\u001b[1;33m\u001b[0m\u001b[1;33m\u001b[0m\u001b[0m\n\u001b[1;32m--> 855\u001b[1;33m       \u001b[1;32mreturn\u001b[0m \u001b[0mself\u001b[0m\u001b[1;33m.\u001b[0m\u001b[0m_stateless_fn\u001b[0m\u001b[1;33m(\u001b[0m\u001b[1;33m*\u001b[0m\u001b[0margs\u001b[0m\u001b[1;33m,\u001b[0m \u001b[1;33m**\u001b[0m\u001b[0mkwds\u001b[0m\u001b[1;33m)\u001b[0m  \u001b[1;31m# pylint: disable=not-callable\u001b[0m\u001b[1;33m\u001b[0m\u001b[1;33m\u001b[0m\u001b[0m\n\u001b[0m\u001b[0;32m    856\u001b[0m     \u001b[1;32melif\u001b[0m \u001b[0mself\u001b[0m\u001b[1;33m.\u001b[0m\u001b[0m_stateful_fn\u001b[0m \u001b[1;32mis\u001b[0m \u001b[1;32mnot\u001b[0m \u001b[1;32mNone\u001b[0m\u001b[1;33m:\u001b[0m\u001b[1;33m\u001b[0m\u001b[1;33m\u001b[0m\u001b[0m\n\u001b[0;32m    857\u001b[0m       \u001b[1;31m# Release the lock early so that multiple threads can perform the call\u001b[0m\u001b[1;33m\u001b[0m\u001b[1;33m\u001b[0m\u001b[1;33m\u001b[0m\u001b[0m\n",
      "\u001b[1;32m~\\AppData\\Local\\Programs\\Python\\Python38\\lib\\site-packages\\tensorflow\\python\\eager\\function.py\u001b[0m in \u001b[0;36m__call__\u001b[1;34m(self, *args, **kwargs)\u001b[0m\n\u001b[0;32m   2940\u001b[0m       (graph_function,\n\u001b[0;32m   2941\u001b[0m        filtered_flat_args) = self._maybe_define_function(args, kwargs)\n\u001b[1;32m-> 2942\u001b[1;33m     return graph_function._call_flat(\n\u001b[0m\u001b[0;32m   2943\u001b[0m         filtered_flat_args, captured_inputs=graph_function.captured_inputs)  # pylint: disable=protected-access\n\u001b[0;32m   2944\u001b[0m \u001b[1;33m\u001b[0m\u001b[0m\n",
      "\u001b[1;32m~\\AppData\\Local\\Programs\\Python\\Python38\\lib\\site-packages\\tensorflow\\python\\eager\\function.py\u001b[0m in \u001b[0;36m_call_flat\u001b[1;34m(self, args, captured_inputs, cancellation_manager)\u001b[0m\n\u001b[0;32m   1916\u001b[0m         and executing_eagerly):\n\u001b[0;32m   1917\u001b[0m       \u001b[1;31m# No tape is watching; skip to running the function.\u001b[0m\u001b[1;33m\u001b[0m\u001b[1;33m\u001b[0m\u001b[1;33m\u001b[0m\u001b[0m\n\u001b[1;32m-> 1918\u001b[1;33m       return self._build_call_outputs(self._inference_function.call(\n\u001b[0m\u001b[0;32m   1919\u001b[0m           ctx, args, cancellation_manager=cancellation_manager))\n\u001b[0;32m   1920\u001b[0m     forward_backward = self._select_forward_and_backward_functions(\n",
      "\u001b[1;32m~\\AppData\\Local\\Programs\\Python\\Python38\\lib\\site-packages\\tensorflow\\python\\eager\\function.py\u001b[0m in \u001b[0;36mcall\u001b[1;34m(self, ctx, args, cancellation_manager)\u001b[0m\n\u001b[0;32m    553\u001b[0m       \u001b[1;32mwith\u001b[0m \u001b[0m_InterpolateFunctionError\u001b[0m\u001b[1;33m(\u001b[0m\u001b[0mself\u001b[0m\u001b[1;33m)\u001b[0m\u001b[1;33m:\u001b[0m\u001b[1;33m\u001b[0m\u001b[1;33m\u001b[0m\u001b[0m\n\u001b[0;32m    554\u001b[0m         \u001b[1;32mif\u001b[0m \u001b[0mcancellation_manager\u001b[0m \u001b[1;32mis\u001b[0m \u001b[1;32mNone\u001b[0m\u001b[1;33m:\u001b[0m\u001b[1;33m\u001b[0m\u001b[1;33m\u001b[0m\u001b[0m\n\u001b[1;32m--> 555\u001b[1;33m           outputs = execute.execute(\n\u001b[0m\u001b[0;32m    556\u001b[0m               \u001b[0mstr\u001b[0m\u001b[1;33m(\u001b[0m\u001b[0mself\u001b[0m\u001b[1;33m.\u001b[0m\u001b[0msignature\u001b[0m\u001b[1;33m.\u001b[0m\u001b[0mname\u001b[0m\u001b[1;33m)\u001b[0m\u001b[1;33m,\u001b[0m\u001b[1;33m\u001b[0m\u001b[1;33m\u001b[0m\u001b[0m\n\u001b[0;32m    557\u001b[0m               \u001b[0mnum_outputs\u001b[0m\u001b[1;33m=\u001b[0m\u001b[0mself\u001b[0m\u001b[1;33m.\u001b[0m\u001b[0m_num_outputs\u001b[0m\u001b[1;33m,\u001b[0m\u001b[1;33m\u001b[0m\u001b[1;33m\u001b[0m\u001b[0m\n",
      "\u001b[1;32m~\\AppData\\Local\\Programs\\Python\\Python38\\lib\\site-packages\\tensorflow\\python\\eager\\execute.py\u001b[0m in \u001b[0;36mquick_execute\u001b[1;34m(op_name, num_outputs, inputs, attrs, ctx, name)\u001b[0m\n\u001b[0;32m     57\u001b[0m   \u001b[1;32mtry\u001b[0m\u001b[1;33m:\u001b[0m\u001b[1;33m\u001b[0m\u001b[1;33m\u001b[0m\u001b[0m\n\u001b[0;32m     58\u001b[0m     \u001b[0mctx\u001b[0m\u001b[1;33m.\u001b[0m\u001b[0mensure_initialized\u001b[0m\u001b[1;33m(\u001b[0m\u001b[1;33m)\u001b[0m\u001b[1;33m\u001b[0m\u001b[1;33m\u001b[0m\u001b[0m\n\u001b[1;32m---> 59\u001b[1;33m     tensors = pywrap_tfe.TFE_Py_Execute(ctx._handle, device_name, op_name,\n\u001b[0m\u001b[0;32m     60\u001b[0m                                         inputs, attrs, num_outputs)\n\u001b[0;32m     61\u001b[0m   \u001b[1;32mexcept\u001b[0m \u001b[0mcore\u001b[0m\u001b[1;33m.\u001b[0m\u001b[0m_NotOkStatusException\u001b[0m \u001b[1;32mas\u001b[0m \u001b[0me\u001b[0m\u001b[1;33m:\u001b[0m\u001b[1;33m\u001b[0m\u001b[1;33m\u001b[0m\u001b[0m\n",
      "\u001b[1;31mKeyboardInterrupt\u001b[0m: "
     ]
    }
   ],
   "source": [
    "lamdaList = [.000001] #[10, 1, .1, .05, .01, .005, .001, .0005, .00001, 0]\n",
    "eInList = []\n",
    "eOutList = []\n",
    "for lamda in lamdaList:\n",
    "    regParam = keras.regularizers.l2(lamda) #create regularization parameter\n",
    "    \n",
    "    modelInter = tf.keras.Sequential([\n",
    "            keras.layers.Dense(units=np.shape(trainX)[1], activation='relu', kernel_regularizer=regParam),\n",
    "            keras.layers.Dense(units=600, activation='linear', kernel_regularizer=regParam),\n",
    "            keras.layers.Dense(units=800, activation='linear', kernel_regularizer=regParam),\n",
    "            keras.layers.Dense(units=1000, activation='linear', kernel_regularizer=regParam),\n",
    "            keras.layers.Dense(units=800, activation='linear', kernel_regularizer=regParam),\n",
    "            keras.layers.Dense(units=400, activation='linear', kernel_regularizer=regParam),\n",
    "            keras.layers.Dense(units=200, activation='linear', kernel_regularizer=regParam),\n",
    "            keras.layers.Dense(units=100, activation='linear', kernel_regularizer=regParam),\n",
    "            keras.layers.Dense(units=25, activation='linear', kernel_regularizer=regParam),\n",
    "            keras.layers.Dense(units=1, activation='sigmoid')\n",
    "        ])\n",
    "\n",
    "    epochCount = 50\n",
    "    print(\"For lamda=\" + str(lamda) + \": \")\n",
    "    eIn, eOut = runModel(trainX, trainY, valX, valY, modelInter, epochCount, verbose=1)\n",
    "    eInList.append(eIn[-1]) #training error\n",
    "    eOutList.append(eOut[-1]) #validation error\n",
    "    #print(\"Ein:\", eIn)\n",
    "    #print(\"Eout:\", eOut)\n",
    "\n",
    "fig, ax=plt.subplots()\n",
    "ax.plot(lamdaList, eInList,'-b')\n",
    "ax.plot(lamdaList, eOutList,'-r')\n",
    "ax.set_xlabel(\"Lamda\")\n",
    "ax.set_ylabel('Error')\n",
    "ax.set_title(\"Lamda and Error\")\n",
    "ax.grid()\n",
    "ax.legend(['eIn', 'eVal'])\n",
    "ax.set_xscale(\"log\")\n",
    "ax.axes.set_ylim(bottom = .4, top = .5) #all errors should be within this range\n",
    "ax.plot()"
   ]
  },
  {
   "cell_type": "code",
   "execution_count": 13,
   "id": "aging-alcohol",
   "metadata": {},
   "outputs": [],
   "source": [
    "def runModel(trainX, trainY, testX, testY, model, epochCount, verbose=0): #run and graph model results\n",
    "    #compile the model\n",
    "    model.compile(optimizer='adam',\n",
    "              loss=tf.keras.losses.BinaryCrossentropy(from_logits=True),\n",
    "              metrics=['accuracy'])\n",
    "    \n",
    "    historyData = model.fit(trainX, trainY, validation_data=(testX, testY), epochs=epochCount, verbose=verbose)\n",
    "    eIn = historyData.history[\"accuracy\"]\n",
    "    eOut = historyData.history[\"val_accuracy\"]\n",
    "    \n",
    "    for i in range(len(eIn)):\n",
    "        eIn[i] = 1-eIn[i]\n",
    "    for i in range(len(eOut)):\n",
    "        eOut[i] = 1-eOut[i]\n",
    "\n",
    "    print('Train error:', eIn[-1])\n",
    "    print('Test error: ', eOut[-1])\n",
    "    \n",
    "    #return error data to be plot later\n",
    "    return eIn, eOut"
   ]
  },
  {
   "cell_type": "code",
   "execution_count": 22,
   "id": "rotary-belle",
   "metadata": {
    "scrolled": true
   },
   "outputs": [
    {
     "ename": "KeyboardInterrupt",
     "evalue": "",
     "output_type": "error",
     "traceback": [
      "\u001b[1;31m---------------------------------------------------------------------------\u001b[0m",
      "\u001b[1;31mKeyboardInterrupt\u001b[0m                         Traceback (most recent call last)",
      "\u001b[1;32m<ipython-input-22-62065f5b5969>\u001b[0m in \u001b[0;36m<module>\u001b[1;34m\u001b[0m\n\u001b[0;32m     35\u001b[0m \u001b[1;33m\u001b[0m\u001b[0m\n\u001b[0;32m     36\u001b[0m     \u001b[0mepochCount\u001b[0m \u001b[1;33m=\u001b[0m \u001b[1;36m75\u001b[0m \u001b[1;31m#75 iter\u001b[0m\u001b[1;33m\u001b[0m\u001b[1;33m\u001b[0m\u001b[0m\n\u001b[1;32m---> 37\u001b[1;33m     \u001b[0meIn\u001b[0m\u001b[1;33m,\u001b[0m \u001b[0meOut\u001b[0m \u001b[1;33m=\u001b[0m \u001b[0mrunModel\u001b[0m\u001b[1;33m(\u001b[0m\u001b[0mkTrainX\u001b[0m\u001b[1;33m,\u001b[0m \u001b[0mkTrainY\u001b[0m\u001b[1;33m,\u001b[0m \u001b[0mkValX\u001b[0m\u001b[1;33m,\u001b[0m \u001b[0mkValY\u001b[0m\u001b[1;33m,\u001b[0m \u001b[0mmodelFold\u001b[0m\u001b[1;33m,\u001b[0m \u001b[0mepochCount\u001b[0m\u001b[1;33m)\u001b[0m\u001b[1;33m\u001b[0m\u001b[1;33m\u001b[0m\u001b[0m\n\u001b[0m\u001b[0;32m     38\u001b[0m     \u001b[0meInSum\u001b[0m \u001b[1;33m=\u001b[0m \u001b[0meInSum\u001b[0m \u001b[1;33m+\u001b[0m \u001b[0meIn\u001b[0m\u001b[1;33m[\u001b[0m\u001b[1;33m-\u001b[0m\u001b[1;36m1\u001b[0m\u001b[1;33m]\u001b[0m\u001b[1;33m\u001b[0m\u001b[1;33m\u001b[0m\u001b[0m\n\u001b[0;32m     39\u001b[0m     \u001b[0meOutSum\u001b[0m \u001b[1;33m=\u001b[0m \u001b[0meOutSum\u001b[0m \u001b[1;33m+\u001b[0m \u001b[0meOut\u001b[0m\u001b[1;33m[\u001b[0m\u001b[1;33m-\u001b[0m\u001b[1;36m1\u001b[0m\u001b[1;33m]\u001b[0m\u001b[1;33m\u001b[0m\u001b[1;33m\u001b[0m\u001b[0m\n",
      "\u001b[1;32m<ipython-input-13-bf566bfcf578>\u001b[0m in \u001b[0;36mrunModel\u001b[1;34m(trainX, trainY, testX, testY, model, epochCount, verbose)\u001b[0m\n\u001b[0;32m      5\u001b[0m               metrics=['accuracy'])\n\u001b[0;32m      6\u001b[0m \u001b[1;33m\u001b[0m\u001b[0m\n\u001b[1;32m----> 7\u001b[1;33m     \u001b[0mhistoryData\u001b[0m \u001b[1;33m=\u001b[0m \u001b[0mmodel\u001b[0m\u001b[1;33m.\u001b[0m\u001b[0mfit\u001b[0m\u001b[1;33m(\u001b[0m\u001b[0mtrainX\u001b[0m\u001b[1;33m,\u001b[0m \u001b[0mtrainY\u001b[0m\u001b[1;33m,\u001b[0m \u001b[0mvalidation_data\u001b[0m\u001b[1;33m=\u001b[0m\u001b[1;33m(\u001b[0m\u001b[0mtestX\u001b[0m\u001b[1;33m,\u001b[0m \u001b[0mtestY\u001b[0m\u001b[1;33m)\u001b[0m\u001b[1;33m,\u001b[0m \u001b[0mepochs\u001b[0m\u001b[1;33m=\u001b[0m\u001b[0mepochCount\u001b[0m\u001b[1;33m,\u001b[0m \u001b[0mverbose\u001b[0m\u001b[1;33m=\u001b[0m\u001b[0mverbose\u001b[0m\u001b[1;33m)\u001b[0m\u001b[1;33m\u001b[0m\u001b[1;33m\u001b[0m\u001b[0m\n\u001b[0m\u001b[0;32m      8\u001b[0m     \u001b[0meIn\u001b[0m \u001b[1;33m=\u001b[0m \u001b[0mhistoryData\u001b[0m\u001b[1;33m.\u001b[0m\u001b[0mhistory\u001b[0m\u001b[1;33m[\u001b[0m\u001b[1;34m\"accuracy\"\u001b[0m\u001b[1;33m]\u001b[0m\u001b[1;33m\u001b[0m\u001b[1;33m\u001b[0m\u001b[0m\n\u001b[0;32m      9\u001b[0m     \u001b[0meOut\u001b[0m \u001b[1;33m=\u001b[0m \u001b[0mhistoryData\u001b[0m\u001b[1;33m.\u001b[0m\u001b[0mhistory\u001b[0m\u001b[1;33m[\u001b[0m\u001b[1;34m\"val_accuracy\"\u001b[0m\u001b[1;33m]\u001b[0m\u001b[1;33m\u001b[0m\u001b[1;33m\u001b[0m\u001b[0m\n",
      "\u001b[1;32m~\\AppData\\Local\\Programs\\Python\\Python38\\lib\\site-packages\\tensorflow\\python\\keras\\engine\\training.py\u001b[0m in \u001b[0;36mfit\u001b[1;34m(self, x, y, batch_size, epochs, verbose, callbacks, validation_split, validation_data, shuffle, class_weight, sample_weight, initial_epoch, steps_per_epoch, validation_steps, validation_batch_size, validation_freq, max_queue_size, workers, use_multiprocessing)\u001b[0m\n\u001b[0;32m   1098\u001b[0m                 _r=1):\n\u001b[0;32m   1099\u001b[0m               \u001b[0mcallbacks\u001b[0m\u001b[1;33m.\u001b[0m\u001b[0mon_train_batch_begin\u001b[0m\u001b[1;33m(\u001b[0m\u001b[0mstep\u001b[0m\u001b[1;33m)\u001b[0m\u001b[1;33m\u001b[0m\u001b[1;33m\u001b[0m\u001b[0m\n\u001b[1;32m-> 1100\u001b[1;33m               \u001b[0mtmp_logs\u001b[0m \u001b[1;33m=\u001b[0m \u001b[0mself\u001b[0m\u001b[1;33m.\u001b[0m\u001b[0mtrain_function\u001b[0m\u001b[1;33m(\u001b[0m\u001b[0miterator\u001b[0m\u001b[1;33m)\u001b[0m\u001b[1;33m\u001b[0m\u001b[1;33m\u001b[0m\u001b[0m\n\u001b[0m\u001b[0;32m   1101\u001b[0m               \u001b[1;32mif\u001b[0m \u001b[0mdata_handler\u001b[0m\u001b[1;33m.\u001b[0m\u001b[0mshould_sync\u001b[0m\u001b[1;33m:\u001b[0m\u001b[1;33m\u001b[0m\u001b[1;33m\u001b[0m\u001b[0m\n\u001b[0;32m   1102\u001b[0m                 \u001b[0mcontext\u001b[0m\u001b[1;33m.\u001b[0m\u001b[0masync_wait\u001b[0m\u001b[1;33m(\u001b[0m\u001b[1;33m)\u001b[0m\u001b[1;33m\u001b[0m\u001b[1;33m\u001b[0m\u001b[0m\n",
      "\u001b[1;32m~\\AppData\\Local\\Programs\\Python\\Python38\\lib\\site-packages\\tensorflow\\python\\eager\\def_function.py\u001b[0m in \u001b[0;36m__call__\u001b[1;34m(self, *args, **kwds)\u001b[0m\n\u001b[0;32m    826\u001b[0m     \u001b[0mtracing_count\u001b[0m \u001b[1;33m=\u001b[0m \u001b[0mself\u001b[0m\u001b[1;33m.\u001b[0m\u001b[0mexperimental_get_tracing_count\u001b[0m\u001b[1;33m(\u001b[0m\u001b[1;33m)\u001b[0m\u001b[1;33m\u001b[0m\u001b[1;33m\u001b[0m\u001b[0m\n\u001b[0;32m    827\u001b[0m     \u001b[1;32mwith\u001b[0m \u001b[0mtrace\u001b[0m\u001b[1;33m.\u001b[0m\u001b[0mTrace\u001b[0m\u001b[1;33m(\u001b[0m\u001b[0mself\u001b[0m\u001b[1;33m.\u001b[0m\u001b[0m_name\u001b[0m\u001b[1;33m)\u001b[0m \u001b[1;32mas\u001b[0m \u001b[0mtm\u001b[0m\u001b[1;33m:\u001b[0m\u001b[1;33m\u001b[0m\u001b[1;33m\u001b[0m\u001b[0m\n\u001b[1;32m--> 828\u001b[1;33m       \u001b[0mresult\u001b[0m \u001b[1;33m=\u001b[0m \u001b[0mself\u001b[0m\u001b[1;33m.\u001b[0m\u001b[0m_call\u001b[0m\u001b[1;33m(\u001b[0m\u001b[1;33m*\u001b[0m\u001b[0margs\u001b[0m\u001b[1;33m,\u001b[0m \u001b[1;33m**\u001b[0m\u001b[0mkwds\u001b[0m\u001b[1;33m)\u001b[0m\u001b[1;33m\u001b[0m\u001b[1;33m\u001b[0m\u001b[0m\n\u001b[0m\u001b[0;32m    829\u001b[0m       \u001b[0mcompiler\u001b[0m \u001b[1;33m=\u001b[0m \u001b[1;34m\"xla\"\u001b[0m \u001b[1;32mif\u001b[0m \u001b[0mself\u001b[0m\u001b[1;33m.\u001b[0m\u001b[0m_experimental_compile\u001b[0m \u001b[1;32melse\u001b[0m \u001b[1;34m\"nonXla\"\u001b[0m\u001b[1;33m\u001b[0m\u001b[1;33m\u001b[0m\u001b[0m\n\u001b[0;32m    830\u001b[0m       \u001b[0mnew_tracing_count\u001b[0m \u001b[1;33m=\u001b[0m \u001b[0mself\u001b[0m\u001b[1;33m.\u001b[0m\u001b[0mexperimental_get_tracing_count\u001b[0m\u001b[1;33m(\u001b[0m\u001b[1;33m)\u001b[0m\u001b[1;33m\u001b[0m\u001b[1;33m\u001b[0m\u001b[0m\n",
      "\u001b[1;32m~\\AppData\\Local\\Programs\\Python\\Python38\\lib\\site-packages\\tensorflow\\python\\eager\\def_function.py\u001b[0m in \u001b[0;36m_call\u001b[1;34m(self, *args, **kwds)\u001b[0m\n\u001b[0;32m    853\u001b[0m       \u001b[1;31m# In this case we have created variables on the first call, so we run the\u001b[0m\u001b[1;33m\u001b[0m\u001b[1;33m\u001b[0m\u001b[1;33m\u001b[0m\u001b[0m\n\u001b[0;32m    854\u001b[0m       \u001b[1;31m# defunned version which is guaranteed to never create variables.\u001b[0m\u001b[1;33m\u001b[0m\u001b[1;33m\u001b[0m\u001b[1;33m\u001b[0m\u001b[0m\n\u001b[1;32m--> 855\u001b[1;33m       \u001b[1;32mreturn\u001b[0m \u001b[0mself\u001b[0m\u001b[1;33m.\u001b[0m\u001b[0m_stateless_fn\u001b[0m\u001b[1;33m(\u001b[0m\u001b[1;33m*\u001b[0m\u001b[0margs\u001b[0m\u001b[1;33m,\u001b[0m \u001b[1;33m**\u001b[0m\u001b[0mkwds\u001b[0m\u001b[1;33m)\u001b[0m  \u001b[1;31m# pylint: disable=not-callable\u001b[0m\u001b[1;33m\u001b[0m\u001b[1;33m\u001b[0m\u001b[0m\n\u001b[0m\u001b[0;32m    856\u001b[0m     \u001b[1;32melif\u001b[0m \u001b[0mself\u001b[0m\u001b[1;33m.\u001b[0m\u001b[0m_stateful_fn\u001b[0m \u001b[1;32mis\u001b[0m \u001b[1;32mnot\u001b[0m \u001b[1;32mNone\u001b[0m\u001b[1;33m:\u001b[0m\u001b[1;33m\u001b[0m\u001b[1;33m\u001b[0m\u001b[0m\n\u001b[0;32m    857\u001b[0m       \u001b[1;31m# Release the lock early so that multiple threads can perform the call\u001b[0m\u001b[1;33m\u001b[0m\u001b[1;33m\u001b[0m\u001b[1;33m\u001b[0m\u001b[0m\n",
      "\u001b[1;32m~\\AppData\\Local\\Programs\\Python\\Python38\\lib\\site-packages\\tensorflow\\python\\eager\\function.py\u001b[0m in \u001b[0;36m__call__\u001b[1;34m(self, *args, **kwargs)\u001b[0m\n\u001b[0;32m   2940\u001b[0m       (graph_function,\n\u001b[0;32m   2941\u001b[0m        filtered_flat_args) = self._maybe_define_function(args, kwargs)\n\u001b[1;32m-> 2942\u001b[1;33m     return graph_function._call_flat(\n\u001b[0m\u001b[0;32m   2943\u001b[0m         filtered_flat_args, captured_inputs=graph_function.captured_inputs)  # pylint: disable=protected-access\n\u001b[0;32m   2944\u001b[0m \u001b[1;33m\u001b[0m\u001b[0m\n",
      "\u001b[1;32m~\\AppData\\Local\\Programs\\Python\\Python38\\lib\\site-packages\\tensorflow\\python\\eager\\function.py\u001b[0m in \u001b[0;36m_call_flat\u001b[1;34m(self, args, captured_inputs, cancellation_manager)\u001b[0m\n\u001b[0;32m   1916\u001b[0m         and executing_eagerly):\n\u001b[0;32m   1917\u001b[0m       \u001b[1;31m# No tape is watching; skip to running the function.\u001b[0m\u001b[1;33m\u001b[0m\u001b[1;33m\u001b[0m\u001b[1;33m\u001b[0m\u001b[0m\n\u001b[1;32m-> 1918\u001b[1;33m       return self._build_call_outputs(self._inference_function.call(\n\u001b[0m\u001b[0;32m   1919\u001b[0m           ctx, args, cancellation_manager=cancellation_manager))\n\u001b[0;32m   1920\u001b[0m     forward_backward = self._select_forward_and_backward_functions(\n",
      "\u001b[1;32m~\\AppData\\Local\\Programs\\Python\\Python38\\lib\\site-packages\\tensorflow\\python\\eager\\function.py\u001b[0m in \u001b[0;36mcall\u001b[1;34m(self, ctx, args, cancellation_manager)\u001b[0m\n\u001b[0;32m    553\u001b[0m       \u001b[1;32mwith\u001b[0m \u001b[0m_InterpolateFunctionError\u001b[0m\u001b[1;33m(\u001b[0m\u001b[0mself\u001b[0m\u001b[1;33m)\u001b[0m\u001b[1;33m:\u001b[0m\u001b[1;33m\u001b[0m\u001b[1;33m\u001b[0m\u001b[0m\n\u001b[0;32m    554\u001b[0m         \u001b[1;32mif\u001b[0m \u001b[0mcancellation_manager\u001b[0m \u001b[1;32mis\u001b[0m \u001b[1;32mNone\u001b[0m\u001b[1;33m:\u001b[0m\u001b[1;33m\u001b[0m\u001b[1;33m\u001b[0m\u001b[0m\n\u001b[1;32m--> 555\u001b[1;33m           outputs = execute.execute(\n\u001b[0m\u001b[0;32m    556\u001b[0m               \u001b[0mstr\u001b[0m\u001b[1;33m(\u001b[0m\u001b[0mself\u001b[0m\u001b[1;33m.\u001b[0m\u001b[0msignature\u001b[0m\u001b[1;33m.\u001b[0m\u001b[0mname\u001b[0m\u001b[1;33m)\u001b[0m\u001b[1;33m,\u001b[0m\u001b[1;33m\u001b[0m\u001b[1;33m\u001b[0m\u001b[0m\n\u001b[0;32m    557\u001b[0m               \u001b[0mnum_outputs\u001b[0m\u001b[1;33m=\u001b[0m\u001b[0mself\u001b[0m\u001b[1;33m.\u001b[0m\u001b[0m_num_outputs\u001b[0m\u001b[1;33m,\u001b[0m\u001b[1;33m\u001b[0m\u001b[1;33m\u001b[0m\u001b[0m\n",
      "\u001b[1;32m~\\AppData\\Local\\Programs\\Python\\Python38\\lib\\site-packages\\tensorflow\\python\\eager\\execute.py\u001b[0m in \u001b[0;36mquick_execute\u001b[1;34m(op_name, num_outputs, inputs, attrs, ctx, name)\u001b[0m\n\u001b[0;32m     57\u001b[0m   \u001b[1;32mtry\u001b[0m\u001b[1;33m:\u001b[0m\u001b[1;33m\u001b[0m\u001b[1;33m\u001b[0m\u001b[0m\n\u001b[0;32m     58\u001b[0m     \u001b[0mctx\u001b[0m\u001b[1;33m.\u001b[0m\u001b[0mensure_initialized\u001b[0m\u001b[1;33m(\u001b[0m\u001b[1;33m)\u001b[0m\u001b[1;33m\u001b[0m\u001b[1;33m\u001b[0m\u001b[0m\n\u001b[1;32m---> 59\u001b[1;33m     tensors = pywrap_tfe.TFE_Py_Execute(ctx._handle, device_name, op_name,\n\u001b[0m\u001b[0;32m     60\u001b[0m                                         inputs, attrs, num_outputs)\n\u001b[0;32m     61\u001b[0m   \u001b[1;32mexcept\u001b[0m \u001b[0mcore\u001b[0m\u001b[1;33m.\u001b[0m\u001b[0m_NotOkStatusException\u001b[0m \u001b[1;32mas\u001b[0m \u001b[0me\u001b[0m\u001b[1;33m:\u001b[0m\u001b[1;33m\u001b[0m\u001b[1;33m\u001b[0m\u001b[0m\n",
      "\u001b[1;31mKeyboardInterrupt\u001b[0m: "
     ]
    }
   ],
   "source": [
    "k = 10\n",
    "segSize = int(len(trainX)/k)\n",
    "kTrainX = np.zeros(( (k-1) * segSize, np.shape(trainX)[1]))\n",
    "kTrainY = np.zeros(( (k-1) * segSize))\n",
    "\n",
    "\n",
    "regParam = keras.regularizers.l2(.0001) #create regularization parameter\n",
    "#create the same type of model for kfold testing\n",
    "modelFold = tf.keras.Sequential([\n",
    "        keras.layers.Dense(units=np.shape(trainX)[1], activation='relu', kernel_regularizer=regParam),\n",
    "        keras.layers.Dense(units=600, activation='relu', kernel_regularizer=regParam),\n",
    "        keras.layers.Dense(units=800, activation='relu', kernel_regularizer=regParam),\n",
    "        keras.layers.Dense(units=1000, activation='relu', kernel_regularizer=regParam),\n",
    "        keras.layers.Dense(units=800, activation='relu', kernel_regularizer=regParam),\n",
    "        keras.layers.Dense(units=400, activation='relu', kernel_regularizer=regParam),\n",
    "        keras.layers.Dense(units=200, activation='relu', kernel_regularizer=regParam),\n",
    "        keras.layers.Dense(units=100, activation='relu', kernel_regularizer=regParam),\n",
    "        keras.layers.Dense(units=25, activation='relu', kernel_regularizer=regParam),\n",
    "        keras.layers.Dense(units=1, activation='sigmoid')\n",
    "    ])\n",
    "\n",
    "eInSum = 0\n",
    "eOutSum = 0\n",
    "for i in range(k): #denotes which segment is the validation segment\n",
    "    for j in range(k): #setup the data sets\n",
    "        if(j < i): #copy data over to k data\n",
    "            kTrainX[segSize*(j) : segSize*(j+1)] = trainX[segSize*j : segSize*(j+1)]\n",
    "            kTrainY[segSize*(j) : segSize*(j+1)] = trainY[segSize*j : segSize*(j+1)]\n",
    "        elif(j == i): #this is the val segment\n",
    "            kValX = trainX[segSize*j : segSize*(j+1)]\n",
    "            kValY = trainY[segSize*j : segSize*(j+1)]\n",
    "        else: #j > i\n",
    "            kTrainX[segSize*(j-1) : segSize*(j)] = trainX[segSize*j : segSize*(j+1)]\n",
    "            kTrainY[segSize*(j-1) : segSize*(j)] = trainY[segSize*j : segSize*(j+1)]\n",
    "    \n",
    "    epochCount = 75 #75 iter\n",
    "    eIn, eOut = runModel(kTrainX, kTrainY, kValX, kValY, modelFold, epochCount)\n",
    "    eInSum = eInSum + eIn[-1]\n",
    "    eOutSum = eOutSum + eOut[-1]\n",
    "    \n",
    "print(\"Avr eIn:\", eInSum / k)\n",
    "print(\"Avr eVal:\", eOutSum / k)\n"
   ]
  },
  {
   "cell_type": "code",
   "execution_count": 308,
   "id": "committed-iraqi",
   "metadata": {},
   "outputs": [
    {
     "name": "stdout",
     "output_type": "stream",
     "text": [
      "Train error: 0.4093380570411682\n",
      "Test erorr:  0.41212499141693115\n"
     ]
    }
   ],
   "source": [
    "epochCount = 200 #200 iter\n",
    "eIn, eOut = runModel(trainX, trainY, valX, valY, modelFold, epochCount)"
   ]
  },
  {
   "cell_type": "code",
   "execution_count": 28,
   "id": "heavy-observer",
   "metadata": {},
   "outputs": [
    {
     "name": "stdout",
     "output_type": "stream",
     "text": [
      "INFO:tensorflow:Assets written to: saved_model/my_modelCheckpointResearchUpdate_g03_13_22\\assets\n"
     ]
    }
   ],
   "source": [
    "#save model, from tensorflow documentation, https://www.tensorflow.org/tutorials/keras/save_and_load#save_the_entire_model\n",
    "#!mkdir -p saved_model\n",
    "model.save('saved_model/my_modelCheckpointResearchUpdate_g03_13_22')"
   ]
  },
  {
   "cell_type": "code",
   "execution_count": 314,
   "id": "balanced-macintosh",
   "metadata": {},
   "outputs": [],
   "source": [
    "#load model, also from tensorflow documentation\n",
    "new_model = tf.keras.models.load_model('saved_model/my_modelCheckpoint2')"
   ]
  },
  {
   "cell_type": "code",
   "execution_count": null,
   "id": "bearing-prophet",
   "metadata": {},
   "outputs": [],
   "source": []
  },
  {
   "cell_type": "code",
   "execution_count": 103,
   "id": "nutritional-aruba",
   "metadata": {},
   "outputs": [
    {
     "name": "stdout",
     "output_type": "stream",
     "text": [
      "0.57325\n"
     ]
    }
   ],
   "source": [
    "#evaluate on test set\n",
    "\n",
    "predictY = 1*model.predict(testX)[:,0] > .5\n",
    "\n",
    "print(sum(predictY == testY)/len(testY))"
   ]
  }
 ],
 "metadata": {
  "kernelspec": {
   "display_name": "Python 3",
   "language": "python",
   "name": "python3"
  },
  "language_info": {
   "codemirror_mode": {
    "name": "ipython",
    "version": 3
   },
   "file_extension": ".py",
   "mimetype": "text/x-python",
   "name": "python",
   "nbconvert_exporter": "python",
   "pygments_lexer": "ipython3",
   "version": "3.8.8"
  }
 },
 "nbformat": 4,
 "nbformat_minor": 5
}
